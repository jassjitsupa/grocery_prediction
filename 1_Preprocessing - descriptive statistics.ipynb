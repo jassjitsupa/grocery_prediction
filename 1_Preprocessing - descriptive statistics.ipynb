{
 "cells": [
  {
   "cell_type": "markdown",
   "id": "44aa0479",
   "metadata": {},
   "source": [
    "## Import Packages"
   ]
  },
  {
   "cell_type": "code",
   "execution_count": 1,
   "id": "a68f20d0",
   "metadata": {},
   "outputs": [],
   "source": [
    "import numpy as np\n",
    "import pandas as pd\n"
   ]
  },
  {
   "cell_type": "markdown",
   "id": "ce84e10a",
   "metadata": {},
   "source": [
    "## Reduce memory usage"
   ]
  },
  {
   "cell_type": "code",
   "execution_count": 2,
   "id": "f2ae0bcd",
   "metadata": {},
   "outputs": [],
   "source": [
    "def reduce_mem_usage(df):\n",
    "    \"\"\" iterate through all the columns of a dataframe and modify the data type\n",
    "        to reduce memory usage.        \n",
    "    \"\"\"\n",
    "    start_mem = df.memory_usage().sum() / 1024**2\n",
    "    print('Memory usage of dataframe is {:.2f} MB'.format(start_mem))\n",
    "    \n",
    "    for col in df.columns:\n",
    "        col_type = df[col].dtype\n",
    "        col_type2 = df[col].dtype.name\n",
    "        \n",
    "        if ((col_type != object) and (col_type2 != 'category')):\n",
    "            c_min = df[col].min()\n",
    "            c_max = df[col].max()\n",
    "            if str(col_type)[:3] == 'int':\n",
    "                if c_min > np.iinfo(np.int8).min and c_max < np.iinfo(np.int8).max:\n",
    "                    df[col] = df[col].astype(np.int8)\n",
    "                elif c_min > np.iinfo(np.int16).min and c_max < np.iinfo(np.int16).max:\n",
    "                    df[col] = df[col].astype(np.int16)\n",
    "                elif c_min > np.iinfo(np.int32).min and c_max < np.iinfo(np.int32).max:\n",
    "                    df[col] = df[col].astype(np.int32)\n",
    "                elif c_min > np.iinfo(np.int64).min and c_max < np.iinfo(np.int64).max:\n",
    "                    df[col] = df[col].astype(np.int64)  \n",
    "            else:\n",
    "                if c_min > np.finfo(np.float16).min and c_max < np.finfo(np.float16).max:\n",
    "                    df[col] = df[col].astype(np.float16)\n",
    "                elif c_min > np.finfo(np.float32).min and c_max < np.finfo(np.float32).max:\n",
    "                    df[col] = df[col].astype(np.float32)\n",
    "                else:\n",
    "                    df[col] = df[col].astype(np.float64)\n",
    "        else:\n",
    "            df[col] = df[col].astype('category')\n",
    "\n",
    "    end_mem = df.memory_usage().sum() / 1024**2\n",
    "    print('Memory usage after optimization is: {:.2f} MB'.format(end_mem))\n",
    "    print('Decreased by {:.1f}%'.format(100 * (start_mem - end_mem) / start_mem))\n",
    "    \n",
    "    return df"
   ]
  },
  {
   "cell_type": "markdown",
   "id": "94e4b467",
   "metadata": {},
   "source": [
    "## Load Data"
   ]
  },
  {
   "cell_type": "code",
   "execution_count": 3,
   "id": "f4f829f4",
   "metadata": {},
   "outputs": [
    {
     "name": "stdout",
     "output_type": "stream",
     "text": [
      "Memory usage of dataframe is 182.71 MB\n",
      "Memory usage after optimization is: 45.68 MB\n",
      "Decreased by 75.0%\n",
      "Memory usage of dataframe is 989.82 MB\n",
      "Memory usage after optimization is: 340.25 MB\n",
      "Decreased by 65.6%\n",
      "Memory usage of dataframe is 42.26 MB\n",
      "Memory usage after optimization is: 13.20 MB\n",
      "Decreased by 68.7%\n",
      "Memory usage of dataframe is 1.52 MB\n",
      "Memory usage after optimization is: 1.91 MB\n",
      "Decreased by -25.8%\n",
      "Memory usage of dataframe is 0.00 MB\n",
      "Memory usage after optimization is: 0.00 MB\n",
      "Decreased by -92.7%\n",
      "Memory usage of dataframe is 0.00 MB\n",
      "Memory usage after optimization is: 0.01 MB\n",
      "Decreased by -159.9%\n"
     ]
    }
   ],
   "source": [
    "orders = reduce_mem_usage(pd.read_csv('/Users/jass/Documents/masterhsmainz/4th semester summer 2022/Bus Ana/final project/dataset/orders.csv'))\n",
    "order_products_prior = reduce_mem_usage(pd.read_csv('/Users/jass/Documents/masterhsmainz/4th semester summer 2022/Bus Ana/final project/dataset/order_products__prior.csv'))\n",
    "order_products_train = reduce_mem_usage(pd.read_csv('/Users/jass/Documents/masterhsmainz/4th semester summer 2022/Bus Ana/final project/dataset/order_products__train.csv'))\n",
    "products = reduce_mem_usage(pd.read_csv('/Users/jass/Documents/masterhsmainz/4th semester summer 2022/Bus Ana/final project/dataset/products.csv'))\n",
    "departments = reduce_mem_usage(pd.read_csv('/Users/jass/Documents/masterhsmainz/4th semester summer 2022/Bus Ana/final project/dataset/departments.csv'))\n",
    "aisles = reduce_mem_usage(pd.read_csv('/Users/jass/Documents/masterhsmainz/4th semester summer 2022/Bus Ana/final project/dataset/aisles.csv'))"
   ]
  },
  {
   "cell_type": "code",
   "execution_count": 4,
   "id": "9899100c",
   "metadata": {},
   "outputs": [
    {
     "name": "stdout",
     "output_type": "stream",
     "text": [
      "(3421083, 7)\n",
      "(32434489, 4)\n",
      "(1384617, 4)\n",
      "(49688, 4)\n",
      "(21, 2)\n",
      "(134, 2)\n"
     ]
    }
   ],
   "source": [
    "print(orders.shape)\n",
    "print(order_products_prior.shape)\n",
    "print(order_products_train.shape)\n",
    "print(products.shape)\n",
    "print(departments.shape)\n",
    "print(aisles.shape)"
   ]
  },
  {
   "cell_type": "markdown",
   "id": "b4497daf",
   "metadata": {},
   "source": [
    "### Number of unique products in each department"
   ]
  },
  {
   "cell_type": "code",
   "execution_count": 5,
   "id": "6b576fab",
   "metadata": {
    "collapsed": true
   },
   "outputs": [
    {
     "data": {
      "text/plain": [
       "10      38\n",
       "2      548\n",
       "12     907\n",
       "8      972\n",
       "5     1054\n",
       "18    1081\n",
       "14    1115\n",
       "6     1139\n",
       "21    1258\n",
       "20    1322\n",
       "3     1516\n",
       "4     1684\n",
       "9     1858\n",
       "15    2092\n",
       "17    3085\n",
       "16    3449\n",
       "1     4007\n",
       "7     4365\n",
       "13    5371\n",
       "19    6264\n",
       "11    6563\n",
       "Name: department_id, dtype: int64"
      ]
     },
     "execution_count": 5,
     "metadata": {},
     "output_type": "execute_result"
    }
   ],
   "source": [
    "products.department_id.value_counts().sort_values(ascending=True)"
   ]
  },
  {
   "cell_type": "code",
   "execution_count": 6,
   "id": "329b15a3",
   "metadata": {},
   "outputs": [],
   "source": [
    "prior_df = orders[orders.eval_set == 'prior']"
   ]
  },
  {
   "cell_type": "markdown",
   "id": "54815ce7",
   "metadata": {},
   "source": [
    "### Joining order table with product table"
   ]
  },
  {
   "cell_type": "code",
   "execution_count": 7,
   "id": "5d4d6c5e",
   "metadata": {
    "scrolled": true
   },
   "outputs": [
    {
     "name": "stdout",
     "output_type": "stream",
     "text": [
      "Memory usage of dataframe is 897.03 MB\n",
      "Memory usage after optimization is: 897.03 MB\n",
      "Decreased by 0.0%\n"
     ]
    },
    {
     "data": {
      "text/html": [
       "<div>\n",
       "<style scoped>\n",
       "    .dataframe tbody tr th:only-of-type {\n",
       "        vertical-align: middle;\n",
       "    }\n",
       "\n",
       "    .dataframe tbody tr th {\n",
       "        vertical-align: top;\n",
       "    }\n",
       "\n",
       "    .dataframe thead th {\n",
       "        text-align: right;\n",
       "    }\n",
       "</style>\n",
       "<table border=\"1\" class=\"dataframe\">\n",
       "  <thead>\n",
       "    <tr style=\"text-align: right;\">\n",
       "      <th></th>\n",
       "      <th>order_id</th>\n",
       "      <th>user_id</th>\n",
       "      <th>eval_set</th>\n",
       "      <th>order_number</th>\n",
       "      <th>order_dow</th>\n",
       "      <th>order_hour_of_day</th>\n",
       "      <th>days_since_prior_order</th>\n",
       "      <th>product_id</th>\n",
       "      <th>add_to_cart_order</th>\n",
       "      <th>reordered</th>\n",
       "    </tr>\n",
       "  </thead>\n",
       "  <tbody>\n",
       "    <tr>\n",
       "      <th>0</th>\n",
       "      <td>2539329</td>\n",
       "      <td>1</td>\n",
       "      <td>prior</td>\n",
       "      <td>1</td>\n",
       "      <td>2</td>\n",
       "      <td>8</td>\n",
       "      <td>NaN</td>\n",
       "      <td>196</td>\n",
       "      <td>1</td>\n",
       "      <td>0</td>\n",
       "    </tr>\n",
       "    <tr>\n",
       "      <th>1</th>\n",
       "      <td>2539329</td>\n",
       "      <td>1</td>\n",
       "      <td>prior</td>\n",
       "      <td>1</td>\n",
       "      <td>2</td>\n",
       "      <td>8</td>\n",
       "      <td>NaN</td>\n",
       "      <td>14084</td>\n",
       "      <td>2</td>\n",
       "      <td>0</td>\n",
       "    </tr>\n",
       "    <tr>\n",
       "      <th>2</th>\n",
       "      <td>2539329</td>\n",
       "      <td>1</td>\n",
       "      <td>prior</td>\n",
       "      <td>1</td>\n",
       "      <td>2</td>\n",
       "      <td>8</td>\n",
       "      <td>NaN</td>\n",
       "      <td>12427</td>\n",
       "      <td>3</td>\n",
       "      <td>0</td>\n",
       "    </tr>\n",
       "    <tr>\n",
       "      <th>3</th>\n",
       "      <td>2539329</td>\n",
       "      <td>1</td>\n",
       "      <td>prior</td>\n",
       "      <td>1</td>\n",
       "      <td>2</td>\n",
       "      <td>8</td>\n",
       "      <td>NaN</td>\n",
       "      <td>26088</td>\n",
       "      <td>4</td>\n",
       "      <td>0</td>\n",
       "    </tr>\n",
       "    <tr>\n",
       "      <th>4</th>\n",
       "      <td>2539329</td>\n",
       "      <td>1</td>\n",
       "      <td>prior</td>\n",
       "      <td>1</td>\n",
       "      <td>2</td>\n",
       "      <td>8</td>\n",
       "      <td>NaN</td>\n",
       "      <td>26405</td>\n",
       "      <td>5</td>\n",
       "      <td>0</td>\n",
       "    </tr>\n",
       "  </tbody>\n",
       "</table>\n",
       "</div>"
      ],
      "text/plain": [
       "   order_id  user_id eval_set  order_number  order_dow  order_hour_of_day  \\\n",
       "0   2539329        1    prior             1          2                  8   \n",
       "1   2539329        1    prior             1          2                  8   \n",
       "2   2539329        1    prior             1          2                  8   \n",
       "3   2539329        1    prior             1          2                  8   \n",
       "4   2539329        1    prior             1          2                  8   \n",
       "\n",
       "   days_since_prior_order  product_id  add_to_cart_order  reordered  \n",
       "0                     NaN         196                  1          0  \n",
       "1                     NaN       14084                  2          0  \n",
       "2                     NaN       12427                  3          0  \n",
       "3                     NaN       26088                  4          0  \n",
       "4                     NaN       26405                  5          0  "
      ]
     },
     "execution_count": 7,
     "metadata": {},
     "output_type": "execute_result"
    }
   ],
   "source": [
    "temp = reduce_mem_usage(pd.merge(left=prior_df, right=order_products_prior, on='order_id'))\n",
    "temp.head()"
   ]
  },
  {
   "cell_type": "markdown",
   "id": "43db1f82",
   "metadata": {},
   "source": [
    "### Visualize hour of day that orders are placed"
   ]
  },
  {
   "cell_type": "code",
   "execution_count": 8,
   "id": "90d4c45b",
   "metadata": {},
   "outputs": [
    {
     "data": {
      "text/plain": [
       "<AxesSubplot:xlabel='order_hour_of_day', ylabel='Count'>"
      ]
     },
     "execution_count": 8,
     "metadata": {},
     "output_type": "execute_result"
    },
    {
     "data": {
      "image/png": "[encoded data removed]",
      "text/plain": [
       "<Figure size 720x432 with 1 Axes>"
      ]
     },
     "metadata": {
      "needs_background": "light"
     },
     "output_type": "display_data"
    }
   ],
   "source": [
    "import seaborn as sns\n",
    "\n",
    "import matplotlib.pyplot as plt\n",
    "\n",
    "plt.figure(figsize=(10,6))\n",
    "\n",
    "sns.histplot(x='order_hour_of_day',data=temp)"
   ]
  },
  {
   "cell_type": "markdown",
   "id": "509ee1c3",
   "metadata": {},
   "source": [
    "### Joining product table with aisles table and temp2 with department table"
   ]
  },
  {
   "cell_type": "code",
   "execution_count": 9,
   "id": "f42d5c29",
   "metadata": {
    "collapsed": true
   },
   "outputs": [
    {
     "name": "stdout",
     "output_type": "stream",
     "text": [
      "Memory usage of dataframe is 2.39 MB\n",
      "Memory usage after optimization is: 2.39 MB\n",
      "Decreased by 0.0%\n",
      "Memory usage of dataframe is 2.44 MB\n",
      "Memory usage after optimization is: 2.44 MB\n",
      "Decreased by 0.0%\n"
     ]
    },
    {
     "data": {
      "text/html": [
       "<div>\n",
       "<style scoped>\n",
       "    .dataframe tbody tr th:only-of-type {\n",
       "        vertical-align: middle;\n",
       "    }\n",
       "\n",
       "    .dataframe tbody tr th {\n",
       "        vertical-align: top;\n",
       "    }\n",
       "\n",
       "    .dataframe thead th {\n",
       "        text-align: right;\n",
       "    }\n",
       "</style>\n",
       "<table border=\"1\" class=\"dataframe\">\n",
       "  <thead>\n",
       "    <tr style=\"text-align: right;\">\n",
       "      <th></th>\n",
       "      <th>product_id</th>\n",
       "      <th>product_name</th>\n",
       "      <th>aisle_id</th>\n",
       "      <th>department_id</th>\n",
       "      <th>aisle</th>\n",
       "      <th>department</th>\n",
       "    </tr>\n",
       "  </thead>\n",
       "  <tbody>\n",
       "    <tr>\n",
       "      <th>0</th>\n",
       "      <td>1</td>\n",
       "      <td>Chocolate Sandwich Cookies</td>\n",
       "      <td>61</td>\n",
       "      <td>19</td>\n",
       "      <td>cookies cakes</td>\n",
       "      <td>snacks</td>\n",
       "    </tr>\n",
       "    <tr>\n",
       "      <th>1</th>\n",
       "      <td>78</td>\n",
       "      <td>Nutter Butter Cookie Bites Go-Pak</td>\n",
       "      <td>61</td>\n",
       "      <td>19</td>\n",
       "      <td>cookies cakes</td>\n",
       "      <td>snacks</td>\n",
       "    </tr>\n",
       "    <tr>\n",
       "      <th>2</th>\n",
       "      <td>102</td>\n",
       "      <td>Danish Butter Cookies</td>\n",
       "      <td>61</td>\n",
       "      <td>19</td>\n",
       "      <td>cookies cakes</td>\n",
       "      <td>snacks</td>\n",
       "    </tr>\n",
       "    <tr>\n",
       "      <th>3</th>\n",
       "      <td>172</td>\n",
       "      <td>Gluten Free All Natural Chocolate Chip Cookies</td>\n",
       "      <td>61</td>\n",
       "      <td>19</td>\n",
       "      <td>cookies cakes</td>\n",
       "      <td>snacks</td>\n",
       "    </tr>\n",
       "    <tr>\n",
       "      <th>4</th>\n",
       "      <td>285</td>\n",
       "      <td>Mini Nilla Wafers Munch Pack</td>\n",
       "      <td>61</td>\n",
       "      <td>19</td>\n",
       "      <td>cookies cakes</td>\n",
       "      <td>snacks</td>\n",
       "    </tr>\n",
       "    <tr>\n",
       "      <th>...</th>\n",
       "      <td>...</td>\n",
       "      <td>...</td>\n",
       "      <td>...</td>\n",
       "      <td>...</td>\n",
       "      <td>...</td>\n",
       "      <td>...</td>\n",
       "    </tr>\n",
       "    <tr>\n",
       "      <th>49683</th>\n",
       "      <td>22827</td>\n",
       "      <td>Organic Black Mission Figs</td>\n",
       "      <td>18</td>\n",
       "      <td>10</td>\n",
       "      <td>bulk dried fruits vegetables</td>\n",
       "      <td>bulk</td>\n",
       "    </tr>\n",
       "    <tr>\n",
       "      <th>49684</th>\n",
       "      <td>28655</td>\n",
       "      <td>Crystallized Ginger Chunks</td>\n",
       "      <td>18</td>\n",
       "      <td>10</td>\n",
       "      <td>bulk dried fruits vegetables</td>\n",
       "      <td>bulk</td>\n",
       "    </tr>\n",
       "    <tr>\n",
       "      <th>49685</th>\n",
       "      <td>30365</td>\n",
       "      <td>Vegetable Chips</td>\n",
       "      <td>18</td>\n",
       "      <td>10</td>\n",
       "      <td>bulk dried fruits vegetables</td>\n",
       "      <td>bulk</td>\n",
       "    </tr>\n",
       "    <tr>\n",
       "      <th>49686</th>\n",
       "      <td>38007</td>\n",
       "      <td>Naturally Sweet Plantain Chips</td>\n",
       "      <td>18</td>\n",
       "      <td>10</td>\n",
       "      <td>bulk dried fruits vegetables</td>\n",
       "      <td>bulk</td>\n",
       "    </tr>\n",
       "    <tr>\n",
       "      <th>49687</th>\n",
       "      <td>48778</td>\n",
       "      <td>Fit Super A Juice, Cold Pressed, Carrot/Apple/...</td>\n",
       "      <td>18</td>\n",
       "      <td>10</td>\n",
       "      <td>bulk dried fruits vegetables</td>\n",
       "      <td>bulk</td>\n",
       "    </tr>\n",
       "  </tbody>\n",
       "</table>\n",
       "<p>49688 rows × 6 columns</p>\n",
       "</div>"
      ],
      "text/plain": [
       "       product_id                                       product_name  \\\n",
       "0               1                         Chocolate Sandwich Cookies   \n",
       "1              78                  Nutter Butter Cookie Bites Go-Pak   \n",
       "2             102                              Danish Butter Cookies   \n",
       "3             172     Gluten Free All Natural Chocolate Chip Cookies   \n",
       "4             285                       Mini Nilla Wafers Munch Pack   \n",
       "...           ...                                                ...   \n",
       "49683       22827                         Organic Black Mission Figs   \n",
       "49684       28655                         Crystallized Ginger Chunks   \n",
       "49685       30365                                    Vegetable Chips   \n",
       "49686       38007                     Naturally Sweet Plantain Chips   \n",
       "49687       48778  Fit Super A Juice, Cold Pressed, Carrot/Apple/...   \n",
       "\n",
       "       aisle_id  department_id                         aisle department  \n",
       "0            61             19                 cookies cakes     snacks  \n",
       "1            61             19                 cookies cakes     snacks  \n",
       "2            61             19                 cookies cakes     snacks  \n",
       "3            61             19                 cookies cakes     snacks  \n",
       "4            61             19                 cookies cakes     snacks  \n",
       "...         ...            ...                           ...        ...  \n",
       "49683        18             10  bulk dried fruits vegetables       bulk  \n",
       "49684        18             10  bulk dried fruits vegetables       bulk  \n",
       "49685        18             10  bulk dried fruits vegetables       bulk  \n",
       "49686        18             10  bulk dried fruits vegetables       bulk  \n",
       "49687        18             10  bulk dried fruits vegetables       bulk  \n",
       "\n",
       "[49688 rows x 6 columns]"
      ]
     },
     "execution_count": 9,
     "metadata": {},
     "output_type": "execute_result"
    }
   ],
   "source": [
    "temp2 = reduce_mem_usage(pd.merge(left=products, right=aisles, on='aisle_id'))\n",
    "temp3 = reduce_mem_usage(pd.merge(left=temp2, right=departments, on='department_id'))\n",
    "temp3"
   ]
  },
  {
   "cell_type": "code",
   "execution_count": 10,
   "id": "7c437727",
   "metadata": {},
   "outputs": [
    {
     "name": "stdout",
     "output_type": "stream",
     "text": [
      "Memory usage of dataframe is 1207.74 MB\n",
      "Memory usage after optimization is: 1207.74 MB\n",
      "Decreased by 0.0%\n"
     ]
    }
   ],
   "source": [
    "final_prior_df = reduce_mem_usage(pd.merge(left=temp, right=temp3, on='product_id'))"
   ]
  },
  {
   "cell_type": "code",
   "execution_count": 11,
   "id": "3ae5f38e",
   "metadata": {},
   "outputs": [
    {
     "data": {
      "text/plain": [
       "Index(['order_id', 'user_id', 'eval_set', 'order_number', 'order_dow',\n",
       "       'order_hour_of_day', 'days_since_prior_order', 'product_id',\n",
       "       'add_to_cart_order', 'reordered', 'product_name', 'aisle_id',\n",
       "       'department_id', 'aisle', 'department'],\n",
       "      dtype='object')"
      ]
     },
     "execution_count": 11,
     "metadata": {},
     "output_type": "execute_result"
    }
   ],
   "source": [
    "final_prior_df.columns"
   ]
  },
  {
   "cell_type": "code",
   "execution_count": 12,
   "id": "bf79116a",
   "metadata": {
    "collapsed": true
   },
   "outputs": [
    {
     "data": {
      "text/html": [
       "<div>\n",
       "<style scoped>\n",
       "    .dataframe tbody tr th:only-of-type {\n",
       "        vertical-align: middle;\n",
       "    }\n",
       "\n",
       "    .dataframe tbody tr th {\n",
       "        vertical-align: top;\n",
       "    }\n",
       "\n",
       "    .dataframe thead th {\n",
       "        text-align: right;\n",
       "    }\n",
       "</style>\n",
       "<table border=\"1\" class=\"dataframe\">\n",
       "  <thead>\n",
       "    <tr style=\"text-align: right;\">\n",
       "      <th></th>\n",
       "      <th>order_id</th>\n",
       "      <th>user_id</th>\n",
       "      <th>eval_set</th>\n",
       "      <th>order_number</th>\n",
       "      <th>order_dow</th>\n",
       "      <th>order_hour_of_day</th>\n",
       "      <th>days_since_prior_order</th>\n",
       "      <th>product_id</th>\n",
       "      <th>add_to_cart_order</th>\n",
       "      <th>reordered</th>\n",
       "      <th>product_name</th>\n",
       "      <th>aisle_id</th>\n",
       "      <th>department_id</th>\n",
       "      <th>aisle</th>\n",
       "      <th>department</th>\n",
       "    </tr>\n",
       "  </thead>\n",
       "  <tbody>\n",
       "    <tr>\n",
       "      <th>0</th>\n",
       "      <td>2539329</td>\n",
       "      <td>1</td>\n",
       "      <td>prior</td>\n",
       "      <td>1</td>\n",
       "      <td>2</td>\n",
       "      <td>8</td>\n",
       "      <td>NaN</td>\n",
       "      <td>196</td>\n",
       "      <td>1</td>\n",
       "      <td>0</td>\n",
       "      <td>Soda</td>\n",
       "      <td>77</td>\n",
       "      <td>7</td>\n",
       "      <td>soft drinks</td>\n",
       "      <td>beverages</td>\n",
       "    </tr>\n",
       "    <tr>\n",
       "      <th>1</th>\n",
       "      <td>2398795</td>\n",
       "      <td>1</td>\n",
       "      <td>prior</td>\n",
       "      <td>2</td>\n",
       "      <td>3</td>\n",
       "      <td>7</td>\n",
       "      <td>15.0</td>\n",
       "      <td>196</td>\n",
       "      <td>1</td>\n",
       "      <td>1</td>\n",
       "      <td>Soda</td>\n",
       "      <td>77</td>\n",
       "      <td>7</td>\n",
       "      <td>soft drinks</td>\n",
       "      <td>beverages</td>\n",
       "    </tr>\n",
       "    <tr>\n",
       "      <th>2</th>\n",
       "      <td>473747</td>\n",
       "      <td>1</td>\n",
       "      <td>prior</td>\n",
       "      <td>3</td>\n",
       "      <td>3</td>\n",
       "      <td>12</td>\n",
       "      <td>21.0</td>\n",
       "      <td>196</td>\n",
       "      <td>1</td>\n",
       "      <td>1</td>\n",
       "      <td>Soda</td>\n",
       "      <td>77</td>\n",
       "      <td>7</td>\n",
       "      <td>soft drinks</td>\n",
       "      <td>beverages</td>\n",
       "    </tr>\n",
       "    <tr>\n",
       "      <th>3</th>\n",
       "      <td>2254736</td>\n",
       "      <td>1</td>\n",
       "      <td>prior</td>\n",
       "      <td>4</td>\n",
       "      <td>4</td>\n",
       "      <td>7</td>\n",
       "      <td>29.0</td>\n",
       "      <td>196</td>\n",
       "      <td>1</td>\n",
       "      <td>1</td>\n",
       "      <td>Soda</td>\n",
       "      <td>77</td>\n",
       "      <td>7</td>\n",
       "      <td>soft drinks</td>\n",
       "      <td>beverages</td>\n",
       "    </tr>\n",
       "    <tr>\n",
       "      <th>4</th>\n",
       "      <td>431534</td>\n",
       "      <td>1</td>\n",
       "      <td>prior</td>\n",
       "      <td>5</td>\n",
       "      <td>4</td>\n",
       "      <td>15</td>\n",
       "      <td>28.0</td>\n",
       "      <td>196</td>\n",
       "      <td>1</td>\n",
       "      <td>1</td>\n",
       "      <td>Soda</td>\n",
       "      <td>77</td>\n",
       "      <td>7</td>\n",
       "      <td>soft drinks</td>\n",
       "      <td>beverages</td>\n",
       "    </tr>\n",
       "    <tr>\n",
       "      <th>5</th>\n",
       "      <td>3367565</td>\n",
       "      <td>1</td>\n",
       "      <td>prior</td>\n",
       "      <td>6</td>\n",
       "      <td>2</td>\n",
       "      <td>7</td>\n",
       "      <td>19.0</td>\n",
       "      <td>196</td>\n",
       "      <td>1</td>\n",
       "      <td>1</td>\n",
       "      <td>Soda</td>\n",
       "      <td>77</td>\n",
       "      <td>7</td>\n",
       "      <td>soft drinks</td>\n",
       "      <td>beverages</td>\n",
       "    </tr>\n",
       "    <tr>\n",
       "      <th>6</th>\n",
       "      <td>550135</td>\n",
       "      <td>1</td>\n",
       "      <td>prior</td>\n",
       "      <td>7</td>\n",
       "      <td>1</td>\n",
       "      <td>9</td>\n",
       "      <td>20.0</td>\n",
       "      <td>196</td>\n",
       "      <td>1</td>\n",
       "      <td>1</td>\n",
       "      <td>Soda</td>\n",
       "      <td>77</td>\n",
       "      <td>7</td>\n",
       "      <td>soft drinks</td>\n",
       "      <td>beverages</td>\n",
       "    </tr>\n",
       "    <tr>\n",
       "      <th>7</th>\n",
       "      <td>3108588</td>\n",
       "      <td>1</td>\n",
       "      <td>prior</td>\n",
       "      <td>8</td>\n",
       "      <td>1</td>\n",
       "      <td>14</td>\n",
       "      <td>14.0</td>\n",
       "      <td>196</td>\n",
       "      <td>2</td>\n",
       "      <td>1</td>\n",
       "      <td>Soda</td>\n",
       "      <td>77</td>\n",
       "      <td>7</td>\n",
       "      <td>soft drinks</td>\n",
       "      <td>beverages</td>\n",
       "    </tr>\n",
       "    <tr>\n",
       "      <th>8</th>\n",
       "      <td>2295261</td>\n",
       "      <td>1</td>\n",
       "      <td>prior</td>\n",
       "      <td>9</td>\n",
       "      <td>1</td>\n",
       "      <td>16</td>\n",
       "      <td>0.0</td>\n",
       "      <td>196</td>\n",
       "      <td>4</td>\n",
       "      <td>1</td>\n",
       "      <td>Soda</td>\n",
       "      <td>77</td>\n",
       "      <td>7</td>\n",
       "      <td>soft drinks</td>\n",
       "      <td>beverages</td>\n",
       "    </tr>\n",
       "    <tr>\n",
       "      <th>9</th>\n",
       "      <td>2550362</td>\n",
       "      <td>1</td>\n",
       "      <td>prior</td>\n",
       "      <td>10</td>\n",
       "      <td>4</td>\n",
       "      <td>8</td>\n",
       "      <td>30.0</td>\n",
       "      <td>196</td>\n",
       "      <td>1</td>\n",
       "      <td>1</td>\n",
       "      <td>Soda</td>\n",
       "      <td>77</td>\n",
       "      <td>7</td>\n",
       "      <td>soft drinks</td>\n",
       "      <td>beverages</td>\n",
       "    </tr>\n",
       "    <tr>\n",
       "      <th>10</th>\n",
       "      <td>2968173</td>\n",
       "      <td>15</td>\n",
       "      <td>prior</td>\n",
       "      <td>15</td>\n",
       "      <td>1</td>\n",
       "      <td>9</td>\n",
       "      <td>7.0</td>\n",
       "      <td>196</td>\n",
       "      <td>2</td>\n",
       "      <td>0</td>\n",
       "      <td>Soda</td>\n",
       "      <td>77</td>\n",
       "      <td>7</td>\n",
       "      <td>soft drinks</td>\n",
       "      <td>beverages</td>\n",
       "    </tr>\n",
       "    <tr>\n",
       "      <th>11</th>\n",
       "      <td>1870022</td>\n",
       "      <td>15</td>\n",
       "      <td>prior</td>\n",
       "      <td>17</td>\n",
       "      <td>2</td>\n",
       "      <td>16</td>\n",
       "      <td>8.0</td>\n",
       "      <td>196</td>\n",
       "      <td>6</td>\n",
       "      <td>1</td>\n",
       "      <td>Soda</td>\n",
       "      <td>77</td>\n",
       "      <td>7</td>\n",
       "      <td>soft drinks</td>\n",
       "      <td>beverages</td>\n",
       "    </tr>\n",
       "    <tr>\n",
       "      <th>12</th>\n",
       "      <td>1911383</td>\n",
       "      <td>15</td>\n",
       "      <td>prior</td>\n",
       "      <td>18</td>\n",
       "      <td>2</td>\n",
       "      <td>11</td>\n",
       "      <td>7.0</td>\n",
       "      <td>196</td>\n",
       "      <td>1</td>\n",
       "      <td>1</td>\n",
       "      <td>Soda</td>\n",
       "      <td>77</td>\n",
       "      <td>7</td>\n",
       "      <td>soft drinks</td>\n",
       "      <td>beverages</td>\n",
       "    </tr>\n",
       "    <tr>\n",
       "      <th>13</th>\n",
       "      <td>2715276</td>\n",
       "      <td>15</td>\n",
       "      <td>prior</td>\n",
       "      <td>21</td>\n",
       "      <td>1</td>\n",
       "      <td>9</td>\n",
       "      <td>7.0</td>\n",
       "      <td>196</td>\n",
       "      <td>1</td>\n",
       "      <td>1</td>\n",
       "      <td>Soda</td>\n",
       "      <td>77</td>\n",
       "      <td>7</td>\n",
       "      <td>soft drinks</td>\n",
       "      <td>beverages</td>\n",
       "    </tr>\n",
       "    <tr>\n",
       "      <th>14</th>\n",
       "      <td>487368</td>\n",
       "      <td>15</td>\n",
       "      <td>prior</td>\n",
       "      <td>22</td>\n",
       "      <td>1</td>\n",
       "      <td>10</td>\n",
       "      <td>14.0</td>\n",
       "      <td>196</td>\n",
       "      <td>1</td>\n",
       "      <td>1</td>\n",
       "      <td>Soda</td>\n",
       "      <td>77</td>\n",
       "      <td>7</td>\n",
       "      <td>soft drinks</td>\n",
       "      <td>beverages</td>\n",
       "    </tr>\n",
       "    <tr>\n",
       "      <th>15</th>\n",
       "      <td>2293453</td>\n",
       "      <td>19</td>\n",
       "      <td>prior</td>\n",
       "      <td>2</td>\n",
       "      <td>5</td>\n",
       "      <td>14</td>\n",
       "      <td>6.0</td>\n",
       "      <td>196</td>\n",
       "      <td>3</td>\n",
       "      <td>0</td>\n",
       "      <td>Soda</td>\n",
       "      <td>77</td>\n",
       "      <td>7</td>\n",
       "      <td>soft drinks</td>\n",
       "      <td>beverages</td>\n",
       "    </tr>\n",
       "    <tr>\n",
       "      <th>16</th>\n",
       "      <td>1973799</td>\n",
       "      <td>19</td>\n",
       "      <td>prior</td>\n",
       "      <td>5</td>\n",
       "      <td>6</td>\n",
       "      <td>12</td>\n",
       "      <td>8.0</td>\n",
       "      <td>196</td>\n",
       "      <td>15</td>\n",
       "      <td>1</td>\n",
       "      <td>Soda</td>\n",
       "      <td>77</td>\n",
       "      <td>7</td>\n",
       "      <td>soft drinks</td>\n",
       "      <td>beverages</td>\n",
       "    </tr>\n",
       "    <tr>\n",
       "      <th>17</th>\n",
       "      <td>532817</td>\n",
       "      <td>19</td>\n",
       "      <td>prior</td>\n",
       "      <td>7</td>\n",
       "      <td>4</td>\n",
       "      <td>17</td>\n",
       "      <td>6.0</td>\n",
       "      <td>196</td>\n",
       "      <td>1</td>\n",
       "      <td>1</td>\n",
       "      <td>Soda</td>\n",
       "      <td>77</td>\n",
       "      <td>7</td>\n",
       "      <td>soft drinks</td>\n",
       "      <td>beverages</td>\n",
       "    </tr>\n",
       "    <tr>\n",
       "      <th>18</th>\n",
       "      <td>1573906</td>\n",
       "      <td>21</td>\n",
       "      <td>prior</td>\n",
       "      <td>10</td>\n",
       "      <td>3</td>\n",
       "      <td>10</td>\n",
       "      <td>6.0</td>\n",
       "      <td>196</td>\n",
       "      <td>2</td>\n",
       "      <td>0</td>\n",
       "      <td>Soda</td>\n",
       "      <td>77</td>\n",
       "      <td>7</td>\n",
       "      <td>soft drinks</td>\n",
       "      <td>beverages</td>\n",
       "    </tr>\n",
       "    <tr>\n",
       "      <th>19</th>\n",
       "      <td>1593000</td>\n",
       "      <td>31</td>\n",
       "      <td>prior</td>\n",
       "      <td>10</td>\n",
       "      <td>3</td>\n",
       "      <td>8</td>\n",
       "      <td>7.0</td>\n",
       "      <td>196</td>\n",
       "      <td>17</td>\n",
       "      <td>0</td>\n",
       "      <td>Soda</td>\n",
       "      <td>77</td>\n",
       "      <td>7</td>\n",
       "      <td>soft drinks</td>\n",
       "      <td>beverages</td>\n",
       "    </tr>\n",
       "  </tbody>\n",
       "</table>\n",
       "</div>"
      ],
      "text/plain": [
       "    order_id  user_id eval_set  order_number  order_dow  order_hour_of_day  \\\n",
       "0    2539329        1    prior             1          2                  8   \n",
       "1    2398795        1    prior             2          3                  7   \n",
       "2     473747        1    prior             3          3                 12   \n",
       "3    2254736        1    prior             4          4                  7   \n",
       "4     431534        1    prior             5          4                 15   \n",
       "5    3367565        1    prior             6          2                  7   \n",
       "6     550135        1    prior             7          1                  9   \n",
       "7    3108588        1    prior             8          1                 14   \n",
       "8    2295261        1    prior             9          1                 16   \n",
       "9    2550362        1    prior            10          4                  8   \n",
       "10   2968173       15    prior            15          1                  9   \n",
       "11   1870022       15    prior            17          2                 16   \n",
       "12   1911383       15    prior            18          2                 11   \n",
       "13   2715276       15    prior            21          1                  9   \n",
       "14    487368       15    prior            22          1                 10   \n",
       "15   2293453       19    prior             2          5                 14   \n",
       "16   1973799       19    prior             5          6                 12   \n",
       "17    532817       19    prior             7          4                 17   \n",
       "18   1573906       21    prior            10          3                 10   \n",
       "19   1593000       31    prior            10          3                  8   \n",
       "\n",
       "    days_since_prior_order  product_id  add_to_cart_order  reordered  \\\n",
       "0                      NaN         196                  1          0   \n",
       "1                     15.0         196                  1          1   \n",
       "2                     21.0         196                  1          1   \n",
       "3                     29.0         196                  1          1   \n",
       "4                     28.0         196                  1          1   \n",
       "5                     19.0         196                  1          1   \n",
       "6                     20.0         196                  1          1   \n",
       "7                     14.0         196                  2          1   \n",
       "8                      0.0         196                  4          1   \n",
       "9                     30.0         196                  1          1   \n",
       "10                     7.0         196                  2          0   \n",
       "11                     8.0         196                  6          1   \n",
       "12                     7.0         196                  1          1   \n",
       "13                     7.0         196                  1          1   \n",
       "14                    14.0         196                  1          1   \n",
       "15                     6.0         196                  3          0   \n",
       "16                     8.0         196                 15          1   \n",
       "17                     6.0         196                  1          1   \n",
       "18                     6.0         196                  2          0   \n",
       "19                     7.0         196                 17          0   \n",
       "\n",
       "   product_name  aisle_id  department_id        aisle department  \n",
       "0          Soda        77              7  soft drinks  beverages  \n",
       "1          Soda        77              7  soft drinks  beverages  \n",
       "2          Soda        77              7  soft drinks  beverages  \n",
       "3          Soda        77              7  soft drinks  beverages  \n",
       "4          Soda        77              7  soft drinks  beverages  \n",
       "5          Soda        77              7  soft drinks  beverages  \n",
       "6          Soda        77              7  soft drinks  beverages  \n",
       "7          Soda        77              7  soft drinks  beverages  \n",
       "8          Soda        77              7  soft drinks  beverages  \n",
       "9          Soda        77              7  soft drinks  beverages  \n",
       "10         Soda        77              7  soft drinks  beverages  \n",
       "11         Soda        77              7  soft drinks  beverages  \n",
       "12         Soda        77              7  soft drinks  beverages  \n",
       "13         Soda        77              7  soft drinks  beverages  \n",
       "14         Soda        77              7  soft drinks  beverages  \n",
       "15         Soda        77              7  soft drinks  beverages  \n",
       "16         Soda        77              7  soft drinks  beverages  \n",
       "17         Soda        77              7  soft drinks  beverages  \n",
       "18         Soda        77              7  soft drinks  beverages  \n",
       "19         Soda        77              7  soft drinks  beverages  "
      ]
     },
     "execution_count": 12,
     "metadata": {},
     "output_type": "execute_result"
    }
   ],
   "source": [
    "final_prior_df.head(20)"
   ]
  },
  {
   "cell_type": "markdown",
   "id": "df4fb577",
   "metadata": {},
   "source": [
    "### Visualize day of week that orders are placed"
   ]
  },
  {
   "cell_type": "code",
   "execution_count": 13,
   "id": "3c4ab31a",
   "metadata": {},
   "outputs": [
    {
     "data": {
      "text/plain": [
       "<AxesSubplot:>"
      ]
     },
     "execution_count": 13,
     "metadata": {},
     "output_type": "execute_result"
    },
    {
     "data": {
      "image/png": "[encoded data removed]",
      "text/plain": [
       "<Figure size 432x288 with 1 Axes>"
      ]
     },
     "metadata": {
      "needs_background": "light"
     },
     "output_type": "display_data"
    }
   ],
   "source": [
    "final_prior_df['order_dow'].value_counts().sort_values(ascending = False).plot(kind='bar',color='darkcyan')"
   ]
  },
  {
   "cell_type": "markdown",
   "id": "50a39e08",
   "metadata": {},
   "source": [
    "### Visualize hour of day that orders are placed sorted ascending"
   ]
  },
  {
   "cell_type": "code",
   "execution_count": 14,
   "id": "ca984f04",
   "metadata": {},
   "outputs": [
    {
     "data": {
      "text/plain": [
       "<AxesSubplot:>"
      ]
     },
     "execution_count": 14,
     "metadata": {},
     "output_type": "execute_result"
    },
    {
     "data": {
      "image/png": "[encoded data removed]",
      "text/plain": [
       "<Figure size 432x288 with 1 Axes>"
      ]
     },
     "metadata": {
      "needs_background": "light"
     },
     "output_type": "display_data"
    }
   ],
   "source": [
    "final_prior_df['order_hour_of_day'].value_counts().sort_values(ascending = False).plot(kind='bar',color='darkcyan')"
   ]
  },
  {
   "cell_type": "code",
   "execution_count": 15,
   "id": "d8d1dbb0",
   "metadata": {},
   "outputs": [
    {
     "data": {
      "text/plain": [
       "1    19126536\n",
       "0    13307953\n",
       "Name: reordered, dtype: int64"
      ]
     },
     "execution_count": 15,
     "metadata": {},
     "output_type": "execute_result"
    }
   ],
   "source": [
    "final_prior_df['reordered'].value_counts().sort_values(ascending = False)"
   ]
  },
  {
   "cell_type": "code",
   "execution_count": 16,
   "id": "afbf43b4",
   "metadata": {
    "scrolled": true
   },
   "outputs": [
    {
     "data": {
      "text/plain": [
       "1     2078068\n",
       "3     2050731\n",
       "2     2048332\n",
       "4     1820298\n",
       "5     1628411\n",
       "       ...   \n",
       "95      14528\n",
       "96      13746\n",
       "97      13367\n",
       "98      12858\n",
       "99      12436\n",
       "Name: order_number, Length: 99, dtype: int64"
      ]
     },
     "execution_count": 16,
     "metadata": {},
     "output_type": "execute_result"
    }
   ],
   "source": [
    "final_prior_df['order_number'].value_counts().sort_values(ascending = False)"
   ]
  },
  {
   "cell_type": "markdown",
   "id": "7f7c2346",
   "metadata": {},
   "source": [
    "### Descriptive Statistics"
   ]
  },
  {
   "cell_type": "code",
   "execution_count": 17,
   "id": "86233a28",
   "metadata": {
    "scrolled": true
   },
   "outputs": [
    {
     "data": {
      "text/html": [
       "<div>\n",
       "<style scoped>\n",
       "    .dataframe tbody tr th:only-of-type {\n",
       "        vertical-align: middle;\n",
       "    }\n",
       "\n",
       "    .dataframe tbody tr th {\n",
       "        vertical-align: top;\n",
       "    }\n",
       "\n",
       "    .dataframe thead th {\n",
       "        text-align: right;\n",
       "    }\n",
       "</style>\n",
       "<table border=\"1\" class=\"dataframe\">\n",
       "  <thead>\n",
       "    <tr style=\"text-align: right;\">\n",
       "      <th></th>\n",
       "      <th>order_id</th>\n",
       "      <th>user_id</th>\n",
       "      <th>order_number</th>\n",
       "      <th>order_dow</th>\n",
       "      <th>order_hour_of_day</th>\n",
       "      <th>days_since_prior_order</th>\n",
       "      <th>product_id</th>\n",
       "      <th>add_to_cart_order</th>\n",
       "      <th>reordered</th>\n",
       "      <th>aisle_id</th>\n",
       "      <th>department_id</th>\n",
       "    </tr>\n",
       "  </thead>\n",
       "  <tbody>\n",
       "    <tr>\n",
       "      <th>count</th>\n",
       "      <td>3.243449e+07</td>\n",
       "      <td>3.243449e+07</td>\n",
       "      <td>3.243449e+07</td>\n",
       "      <td>3.243449e+07</td>\n",
       "      <td>3.243449e+07</td>\n",
       "      <td>30356421.0</td>\n",
       "      <td>3.243449e+07</td>\n",
       "      <td>3.243449e+07</td>\n",
       "      <td>3.243449e+07</td>\n",
       "      <td>3.243449e+07</td>\n",
       "      <td>3.243449e+07</td>\n",
       "    </tr>\n",
       "    <tr>\n",
       "      <th>mean</th>\n",
       "      <td>1.710749e+06</td>\n",
       "      <td>1.029372e+05</td>\n",
       "      <td>1.714205e+01</td>\n",
       "      <td>2.738818e+00</td>\n",
       "      <td>1.342498e+01</td>\n",
       "      <td>NaN</td>\n",
       "      <td>2.557634e+04</td>\n",
       "      <td>8.351076e+00</td>\n",
       "      <td>5.896975e-01</td>\n",
       "      <td>7.121430e+01</td>\n",
       "      <td>9.921906e+00</td>\n",
       "    </tr>\n",
       "    <tr>\n",
       "      <th>std</th>\n",
       "      <td>9.873007e+05</td>\n",
       "      <td>5.946648e+04</td>\n",
       "      <td>1.753504e+01</td>\n",
       "      <td>2.090049e+00</td>\n",
       "      <td>4.246365e+00</td>\n",
       "      <td>0.0</td>\n",
       "      <td>1.409669e+04</td>\n",
       "      <td>7.126671e+00</td>\n",
       "      <td>4.918886e-01</td>\n",
       "      <td>3.820302e+01</td>\n",
       "      <td>6.281156e+00</td>\n",
       "    </tr>\n",
       "    <tr>\n",
       "      <th>min</th>\n",
       "      <td>2.000000e+00</td>\n",
       "      <td>1.000000e+00</td>\n",
       "      <td>1.000000e+00</td>\n",
       "      <td>0.000000e+00</td>\n",
       "      <td>0.000000e+00</td>\n",
       "      <td>0.0</td>\n",
       "      <td>1.000000e+00</td>\n",
       "      <td>1.000000e+00</td>\n",
       "      <td>0.000000e+00</td>\n",
       "      <td>1.000000e+00</td>\n",
       "      <td>1.000000e+00</td>\n",
       "    </tr>\n",
       "    <tr>\n",
       "      <th>25%</th>\n",
       "      <td>8.559430e+05</td>\n",
       "      <td>5.142100e+04</td>\n",
       "      <td>5.000000e+00</td>\n",
       "      <td>1.000000e+00</td>\n",
       "      <td>1.000000e+01</td>\n",
       "      <td>5.0</td>\n",
       "      <td>1.353000e+04</td>\n",
       "      <td>3.000000e+00</td>\n",
       "      <td>0.000000e+00</td>\n",
       "      <td>3.100000e+01</td>\n",
       "      <td>4.000000e+00</td>\n",
       "    </tr>\n",
       "    <tr>\n",
       "      <th>50%</th>\n",
       "      <td>1.711048e+06</td>\n",
       "      <td>1.026110e+05</td>\n",
       "      <td>1.100000e+01</td>\n",
       "      <td>3.000000e+00</td>\n",
       "      <td>1.300000e+01</td>\n",
       "      <td>8.0</td>\n",
       "      <td>2.525600e+04</td>\n",
       "      <td>6.000000e+00</td>\n",
       "      <td>1.000000e+00</td>\n",
       "      <td>8.300000e+01</td>\n",
       "      <td>9.000000e+00</td>\n",
       "    </tr>\n",
       "    <tr>\n",
       "      <th>75%</th>\n",
       "      <td>2.565514e+06</td>\n",
       "      <td>1.543910e+05</td>\n",
       "      <td>2.400000e+01</td>\n",
       "      <td>5.000000e+00</td>\n",
       "      <td>1.600000e+01</td>\n",
       "      <td>15.0</td>\n",
       "      <td>3.793500e+04</td>\n",
       "      <td>1.100000e+01</td>\n",
       "      <td>1.000000e+00</td>\n",
       "      <td>1.070000e+02</td>\n",
       "      <td>1.600000e+01</td>\n",
       "    </tr>\n",
       "    <tr>\n",
       "      <th>max</th>\n",
       "      <td>3.421083e+06</td>\n",
       "      <td>2.062090e+05</td>\n",
       "      <td>9.900000e+01</td>\n",
       "      <td>6.000000e+00</td>\n",
       "      <td>2.300000e+01</td>\n",
       "      <td>30.0</td>\n",
       "      <td>4.968800e+04</td>\n",
       "      <td>1.450000e+02</td>\n",
       "      <td>1.000000e+00</td>\n",
       "      <td>1.340000e+02</td>\n",
       "      <td>2.100000e+01</td>\n",
       "    </tr>\n",
       "  </tbody>\n",
       "</table>\n",
       "</div>"
      ],
      "text/plain": [
       "           order_id       user_id  order_number     order_dow  \\\n",
       "count  3.243449e+07  3.243449e+07  3.243449e+07  3.243449e+07   \n",
       "mean   1.710749e+06  1.029372e+05  1.714205e+01  2.738818e+00   \n",
       "std    9.873007e+05  5.946648e+04  1.753504e+01  2.090049e+00   \n",
       "min    2.000000e+00  1.000000e+00  1.000000e+00  0.000000e+00   \n",
       "25%    8.559430e+05  5.142100e+04  5.000000e+00  1.000000e+00   \n",
       "50%    1.711048e+06  1.026110e+05  1.100000e+01  3.000000e+00   \n",
       "75%    2.565514e+06  1.543910e+05  2.400000e+01  5.000000e+00   \n",
       "max    3.421083e+06  2.062090e+05  9.900000e+01  6.000000e+00   \n",
       "\n",
       "       order_hour_of_day  days_since_prior_order    product_id  \\\n",
       "count       3.243449e+07              30356421.0  3.243449e+07   \n",
       "mean        1.342498e+01                     NaN  2.557634e+04   \n",
       "std         4.246365e+00                     0.0  1.409669e+04   \n",
       "min         0.000000e+00                     0.0  1.000000e+00   \n",
       "25%         1.000000e+01                     5.0  1.353000e+04   \n",
       "50%         1.300000e+01                     8.0  2.525600e+04   \n",
       "75%         1.600000e+01                    15.0  3.793500e+04   \n",
       "max         2.300000e+01                    30.0  4.968800e+04   \n",
       "\n",
       "       add_to_cart_order     reordered      aisle_id  department_id  \n",
       "count       3.243449e+07  3.243449e+07  3.243449e+07   3.243449e+07  \n",
       "mean        8.351076e+00  5.896975e-01  7.121430e+01   9.921906e+00  \n",
       "std         7.126671e+00  4.918886e-01  3.820302e+01   6.281156e+00  \n",
       "min         1.000000e+00  0.000000e+00  1.000000e+00   1.000000e+00  \n",
       "25%         3.000000e+00  0.000000e+00  3.100000e+01   4.000000e+00  \n",
       "50%         6.000000e+00  1.000000e+00  8.300000e+01   9.000000e+00  \n",
       "75%         1.100000e+01  1.000000e+00  1.070000e+02   1.600000e+01  \n",
       "max         1.450000e+02  1.000000e+00  1.340000e+02   2.100000e+01  "
      ]
     },
     "execution_count": 17,
     "metadata": {},
     "output_type": "execute_result"
    }
   ],
   "source": [
    "final_prior_df.describe()"
   ]
  },
  {
   "cell_type": "markdown",
   "id": "fdf47640",
   "metadata": {},
   "source": [
    "### Number of products in each department"
   ]
  },
  {
   "cell_type": "code",
   "execution_count": 18,
   "id": "8f75f42f",
   "metadata": {},
   "outputs": [
    {
     "data": {
      "text/plain": [
       "bulk                 34573\n",
       "other                36291\n",
       "missing              69145\n",
       "pets                 97724\n",
       "alcohol             153696\n",
       "international       269253\n",
       "babies              423802\n",
       "personal care       447123\n",
       "meat seafood        708931\n",
       "breakfast           709569\n",
       "household           738666\n",
       "dry goods pasta     866627\n",
       "deli               1051249\n",
       "canned goods       1068058\n",
       "bakery             1176787\n",
       "pantry             1875577\n",
       "frozen             2236432\n",
       "beverages          2690129\n",
       "snacks             2887550\n",
       "dairy eggs         5414016\n",
       "produce            9479291\n",
       "Name: department, dtype: int64"
      ]
     },
     "execution_count": 18,
     "metadata": {},
     "output_type": "execute_result"
    }
   ],
   "source": [
    "final_prior_df['department'].value_counts().sort_values(ascending=True)"
   ]
  },
  {
   "cell_type": "markdown",
   "id": "3e171d9c",
   "metadata": {},
   "source": [
    "### Extract data only from the five most ordered categories: 1) produce 2) dairy eggs 3) snacks 4) beverages and 5) frozen"
   ]
  },
  {
   "cell_type": "code",
   "execution_count": 19,
   "id": "a2a37bdd",
   "metadata": {},
   "outputs": [
    {
     "data": {
      "text/plain": [
       "(9479291, 15)"
      ]
     },
     "execution_count": 19,
     "metadata": {},
     "output_type": "execute_result"
    }
   ],
   "source": [
    "final_prior_df_produce = final_prior_df[final_prior_df.department == 'produce']\n",
    "rows = np.random.choice(final_prior_df_produce.index.values, 9479291)\n",
    "sampled_produce = final_prior_df_produce.loc[rows]\n",
    "sampled_produce.shape"
   ]
  },
  {
   "cell_type": "code",
   "execution_count": 20,
   "id": "092be419",
   "metadata": {},
   "outputs": [
    {
     "data": {
      "text/plain": [
       "(5414016, 15)"
      ]
     },
     "execution_count": 20,
     "metadata": {},
     "output_type": "execute_result"
    }
   ],
   "source": [
    "final_prior_df_dairyeggs = final_prior_df[final_prior_df.department == 'dairy eggs']\n",
    "rows = np.random.choice(final_prior_df_dairyeggs.index.values, 5414016)\n",
    "sampled_dairyeggs = final_prior_df_dairyeggs.loc[rows]\n",
    "sampled_dairyeggs.shape"
   ]
  },
  {
   "cell_type": "code",
   "execution_count": 21,
   "id": "4eab642a",
   "metadata": {},
   "outputs": [
    {
     "data": {
      "text/plain": [
       "(2887550, 15)"
      ]
     },
     "execution_count": 21,
     "metadata": {},
     "output_type": "execute_result"
    }
   ],
   "source": [
    "final_prior_df_snacks = final_prior_df[final_prior_df.department == 'snacks']\n",
    "rows = np.random.choice(final_prior_df_snacks.index.values, 2887550)\n",
    "sampled_snacks = final_prior_df_snacks.loc[rows]\n",
    "sampled_snacks.shape"
   ]
  },
  {
   "cell_type": "code",
   "execution_count": 22,
   "id": "67e6ddb8",
   "metadata": {},
   "outputs": [
    {
     "data": {
      "text/plain": [
       "(2690129, 15)"
      ]
     },
     "execution_count": 22,
     "metadata": {},
     "output_type": "execute_result"
    }
   ],
   "source": [
    "final_prior_df_beverages = final_prior_df[final_prior_df.department == 'beverages']\n",
    "rows = np.random.choice(final_prior_df_beverages.index.values, 2690129)\n",
    "sampled_beverages = final_prior_df_beverages.loc[rows]\n",
    "sampled_beverages.shape"
   ]
  },
  {
   "cell_type": "code",
   "execution_count": 23,
   "id": "68bfc69e",
   "metadata": {},
   "outputs": [
    {
     "data": {
      "text/plain": [
       "(2236432, 15)"
      ]
     },
     "execution_count": 23,
     "metadata": {},
     "output_type": "execute_result"
    }
   ],
   "source": [
    "final_prior_df_frozen = final_prior_df[final_prior_df.department == 'frozen']\n",
    "rows = np.random.choice(final_prior_df_frozen.index.values, 2236432)\n",
    "sampled_frozen = final_prior_df_frozen.loc[rows]\n",
    "sampled_frozen.shape"
   ]
  },
  {
   "cell_type": "code",
   "execution_count": 24,
   "id": "64dad03d",
   "metadata": {},
   "outputs": [
    {
     "name": "stdout",
     "output_type": "stream",
     "text": [
      "(9479291, 15)\n",
      "(5414016, 15)\n",
      "(2887550, 15)\n",
      "(2690129, 15)\n",
      "(2236432, 15)\n"
     ]
    }
   ],
   "source": [
    "print(sampled_produce.shape)\n",
    "print(sampled_dairyeggs.shape)\n",
    "print(sampled_snacks.shape)\n",
    "print(sampled_beverages.shape)\n",
    "print(sampled_frozen.shape)"
   ]
  },
  {
   "cell_type": "code",
   "execution_count": 25,
   "id": "d82a001c",
   "metadata": {},
   "outputs": [
    {
     "name": "stderr",
     "output_type": "stream",
     "text": [
      "/var/folders/pv/3tp757f9271btvqh0thcbp4w0000gn/T/ipykernel_20214/1144455515.py:5: FutureWarning: The default dtype for empty Series will be 'object' instead of 'float64' in a future version. Specify a dtype explicitly to silence this warning.\n",
      "  start_mem = df.memory_usage().sum() / 1024**2\n",
      "/var/folders/pv/3tp757f9271btvqh0thcbp4w0000gn/T/ipykernel_20214/1144455515.py:34: FutureWarning: The default dtype for empty Series will be 'object' instead of 'float64' in a future version. Specify a dtype explicitly to silence this warning.\n",
      "  end_mem = df.memory_usage().sum() / 1024**2\n",
      "/var/folders/pv/3tp757f9271btvqh0thcbp4w0000gn/T/ipykernel_20214/1144455515.py:36: RuntimeWarning: invalid value encountered in double_scalars\n",
      "  print('Decreased by {:.1f}%'.format(100 * (start_mem - end_mem) / start_mem))\n",
      "/var/folders/pv/3tp757f9271btvqh0thcbp4w0000gn/T/ipykernel_20214/2056993344.py:5: FutureWarning: The frame.append method is deprecated and will be removed from pandas in a future version. Use pandas.concat instead.\n",
      "  myDataFrame = myDataFrame.append(df)\n"
     ]
    },
    {
     "name": "stdout",
     "output_type": "stream",
     "text": [
      "Memory usage of dataframe is 0.00 MB\n",
      "Memory usage after optimization is: 0.00 MB\n",
      "Decreased by nan%\n"
     ]
    },
    {
     "name": "stderr",
     "output_type": "stream",
     "text": [
      "/var/folders/pv/3tp757f9271btvqh0thcbp4w0000gn/T/ipykernel_20214/2056993344.py:5: FutureWarning: The frame.append method is deprecated and will be removed from pandas in a future version. Use pandas.concat instead.\n",
      "  myDataFrame = myDataFrame.append(df)\n",
      "/var/folders/pv/3tp757f9271btvqh0thcbp4w0000gn/T/ipykernel_20214/2056993344.py:5: FutureWarning: The frame.append method is deprecated and will be removed from pandas in a future version. Use pandas.concat instead.\n",
      "  myDataFrame = myDataFrame.append(df)\n",
      "/var/folders/pv/3tp757f9271btvqh0thcbp4w0000gn/T/ipykernel_20214/2056993344.py:5: FutureWarning: The frame.append method is deprecated and will be removed from pandas in a future version. Use pandas.concat instead.\n",
      "  myDataFrame = myDataFrame.append(df)\n",
      "/var/folders/pv/3tp757f9271btvqh0thcbp4w0000gn/T/ipykernel_20214/2056993344.py:5: FutureWarning: The frame.append method is deprecated and will be removed from pandas in a future version. Use pandas.concat instead.\n",
      "  myDataFrame = myDataFrame.append(df)\n"
     ]
    }
   ],
   "source": [
    "# append all product, dairy egg, snacks, beverages, and frozen together\n",
    "frame = [sampled_produce,sampled_dairyeggs,sampled_snacks,sampled_beverages,sampled_frozen]\n",
    "myDataFrame = reduce_mem_usage(pd.DataFrame())\n",
    "for df in frame:\n",
    "    myDataFrame = myDataFrame.append(df)\n",
    "#final_prior_df_appended = final_prior_df_produce.append(final_prior_df_dairyeggs,final_prior_df_snacks,final_prior_df_beverages,final_prior_df_frozen,final_prior_df_pantry,final_prior_df_bakery,final_prior_df_cannedgoods,final_prior_df_deli,final_prior_df_meatseafood)"
   ]
  },
  {
   "cell_type": "code",
   "execution_count": 26,
   "id": "53d25a8f",
   "metadata": {},
   "outputs": [
    {
     "data": {
      "text/plain": [
       "(22707418, 15)"
      ]
     },
     "execution_count": 26,
     "metadata": {},
     "output_type": "execute_result"
    }
   ],
   "source": [
    "myDataFrame.shape"
   ]
  },
  {
   "cell_type": "code",
   "execution_count": 27,
   "id": "f7ce0d19",
   "metadata": {},
   "outputs": [
    {
     "data": {
      "text/plain": [
       "babies                   0\n",
       "pets                     0\n",
       "personal care            0\n",
       "pantry                   0\n",
       "other                    0\n",
       "missing                  0\n",
       "meat seafood             0\n",
       "international            0\n",
       "household                0\n",
       "bakery                   0\n",
       "alcohol                  0\n",
       "deli                     0\n",
       "breakfast                0\n",
       "canned goods             0\n",
       "bulk                     0\n",
       "dry goods pasta          0\n",
       "frozen             2236432\n",
       "beverages          2690129\n",
       "snacks             2887550\n",
       "dairy eggs         5414016\n",
       "produce            9479291\n",
       "Name: department, dtype: int64"
      ]
     },
     "execution_count": 27,
     "metadata": {},
     "output_type": "execute_result"
    }
   ],
   "source": [
    "myDataFrame['department'].value_counts().sort_values(ascending=True)"
   ]
  },
  {
   "cell_type": "code",
   "execution_count": 28,
   "id": "29f28c23",
   "metadata": {
    "scrolled": true
   },
   "outputs": [
    {
     "data": {
      "text/html": [
       "<div>\n",
       "<style scoped>\n",
       "    .dataframe tbody tr th:only-of-type {\n",
       "        vertical-align: middle;\n",
       "    }\n",
       "\n",
       "    .dataframe tbody tr th {\n",
       "        vertical-align: top;\n",
       "    }\n",
       "\n",
       "    .dataframe thead th {\n",
       "        text-align: right;\n",
       "    }\n",
       "</style>\n",
       "<table border=\"1\" class=\"dataframe\">\n",
       "  <thead>\n",
       "    <tr style=\"text-align: right;\">\n",
       "      <th></th>\n",
       "      <th>order_id</th>\n",
       "      <th>user_id</th>\n",
       "      <th>eval_set</th>\n",
       "      <th>order_number</th>\n",
       "      <th>order_dow</th>\n",
       "      <th>order_hour_of_day</th>\n",
       "      <th>days_since_prior_order</th>\n",
       "      <th>product_id</th>\n",
       "      <th>add_to_cart_order</th>\n",
       "      <th>reordered</th>\n",
       "      <th>product_name</th>\n",
       "      <th>aisle_id</th>\n",
       "      <th>department_id</th>\n",
       "      <th>aisle</th>\n",
       "      <th>department</th>\n",
       "    </tr>\n",
       "  </thead>\n",
       "  <tbody>\n",
       "    <tr>\n",
       "      <th>4958913</th>\n",
       "      <td>492487</td>\n",
       "      <td>15953</td>\n",
       "      <td>prior</td>\n",
       "      <td>1</td>\n",
       "      <td>4</td>\n",
       "      <td>18</td>\n",
       "      <td>NaN</td>\n",
       "      <td>8424</td>\n",
       "      <td>8</td>\n",
       "      <td>0</td>\n",
       "      <td>Broccoli Crown</td>\n",
       "      <td>83</td>\n",
       "      <td>4</td>\n",
       "      <td>fresh vegetables</td>\n",
       "      <td>produce</td>\n",
       "    </tr>\n",
       "    <tr>\n",
       "      <th>7814404</th>\n",
       "      <td>2374700</td>\n",
       "      <td>85397</td>\n",
       "      <td>prior</td>\n",
       "      <td>2</td>\n",
       "      <td>3</td>\n",
       "      <td>6</td>\n",
       "      <td>10.0</td>\n",
       "      <td>28842</td>\n",
       "      <td>7</td>\n",
       "      <td>1</td>\n",
       "      <td>Bunched Cilantro</td>\n",
       "      <td>16</td>\n",
       "      <td>4</td>\n",
       "      <td>fresh herbs</td>\n",
       "      <td>produce</td>\n",
       "    </tr>\n",
       "    <tr>\n",
       "      <th>1531221</th>\n",
       "      <td>2857852</td>\n",
       "      <td>1563</td>\n",
       "      <td>prior</td>\n",
       "      <td>98</td>\n",
       "      <td>4</td>\n",
       "      <td>20</td>\n",
       "      <td>1.0</td>\n",
       "      <td>24852</td>\n",
       "      <td>1</td>\n",
       "      <td>1</td>\n",
       "      <td>Banana</td>\n",
       "      <td>24</td>\n",
       "      <td>4</td>\n",
       "      <td>fresh fruits</td>\n",
       "      <td>produce</td>\n",
       "    </tr>\n",
       "    <tr>\n",
       "      <th>9683900</th>\n",
       "      <td>2740802</td>\n",
       "      <td>197081</td>\n",
       "      <td>prior</td>\n",
       "      <td>7</td>\n",
       "      <td>0</td>\n",
       "      <td>17</td>\n",
       "      <td>3.0</td>\n",
       "      <td>46667</td>\n",
       "      <td>1</td>\n",
       "      <td>1</td>\n",
       "      <td>Organic Ginger Root</td>\n",
       "      <td>83</td>\n",
       "      <td>4</td>\n",
       "      <td>fresh vegetables</td>\n",
       "      <td>produce</td>\n",
       "    </tr>\n",
       "    <tr>\n",
       "      <th>8605391</th>\n",
       "      <td>209090</td>\n",
       "      <td>122525</td>\n",
       "      <td>prior</td>\n",
       "      <td>3</td>\n",
       "      <td>4</td>\n",
       "      <td>19</td>\n",
       "      <td>30.0</td>\n",
       "      <td>5876</td>\n",
       "      <td>8</td>\n",
       "      <td>0</td>\n",
       "      <td>Organic Lemon</td>\n",
       "      <td>24</td>\n",
       "      <td>4</td>\n",
       "      <td>fresh fruits</td>\n",
       "      <td>produce</td>\n",
       "    </tr>\n",
       "  </tbody>\n",
       "</table>\n",
       "</div>"
      ],
      "text/plain": [
       "         order_id  user_id eval_set  order_number  order_dow  \\\n",
       "4958913    492487    15953    prior             1          4   \n",
       "7814404   2374700    85397    prior             2          3   \n",
       "1531221   2857852     1563    prior            98          4   \n",
       "9683900   2740802   197081    prior             7          0   \n",
       "8605391    209090   122525    prior             3          4   \n",
       "\n",
       "         order_hour_of_day  days_since_prior_order  product_id  \\\n",
       "4958913                 18                     NaN        8424   \n",
       "7814404                  6                    10.0       28842   \n",
       "1531221                 20                     1.0       24852   \n",
       "9683900                 17                     3.0       46667   \n",
       "8605391                 19                    30.0        5876   \n",
       "\n",
       "         add_to_cart_order  reordered         product_name  aisle_id  \\\n",
       "4958913                  8          0       Broccoli Crown        83   \n",
       "7814404                  7          1     Bunched Cilantro        16   \n",
       "1531221                  1          1               Banana        24   \n",
       "9683900                  1          1  Organic Ginger Root        83   \n",
       "8605391                  8          0        Organic Lemon        24   \n",
       "\n",
       "         department_id             aisle department  \n",
       "4958913              4  fresh vegetables    produce  \n",
       "7814404              4       fresh herbs    produce  \n",
       "1531221              4      fresh fruits    produce  \n",
       "9683900              4  fresh vegetables    produce  \n",
       "8605391              4      fresh fruits    produce  "
      ]
     },
     "execution_count": 28,
     "metadata": {},
     "output_type": "execute_result"
    }
   ],
   "source": [
    "myDataFrame.head()"
   ]
  },
  {
   "cell_type": "markdown",
   "id": "4541fb33",
   "metadata": {},
   "source": [
    "### Visualize day of week that these five categories are mostly ordered"
   ]
  },
  {
   "cell_type": "code",
   "execution_count": 29,
   "id": "9233b5ac",
   "metadata": {
    "scrolled": true
   },
   "outputs": [
    {
     "data": {
      "text/plain": [
       "<AxesSubplot:>"
      ]
     },
     "execution_count": 29,
     "metadata": {},
     "output_type": "execute_result"
    },
    {
     "data": {
      "image/png": "[encoded data removed]",
      "text/plain": [
       "<Figure size 432x288 with 1 Axes>"
      ]
     },
     "metadata": {
      "needs_background": "light"
     },
     "output_type": "display_data"
    }
   ],
   "source": [
    "myDataFrame['order_dow'].value_counts().sort_values(ascending = False).plot(kind='bar',color='darkcyan')"
   ]
  },
  {
   "cell_type": "markdown",
   "id": "956aa690",
   "metadata": {},
   "source": [
    "### Visualize hour of day that these five caegories are mostly ordered"
   ]
  },
  {
   "cell_type": "code",
   "execution_count": 30,
   "id": "2495c5d2",
   "metadata": {},
   "outputs": [
    {
     "data": {
      "text/plain": [
       "<AxesSubplot:>"
      ]
     },
     "execution_count": 30,
     "metadata": {},
     "output_type": "execute_result"
    },
    {
     "data": {
      "image/png": "[encoded data removed]",
      "text/plain": [
       "<Figure size 432x288 with 1 Axes>"
      ]
     },
     "metadata": {
      "needs_background": "light"
     },
     "output_type": "display_data"
    }
   ],
   "source": [
    "myDataFrame['order_hour_of_day'].value_counts().sort_values(ascending = False).plot(kind='bar',color='darkcyan')"
   ]
  },
  {
   "cell_type": "markdown",
   "id": "d298d045",
   "metadata": {},
   "source": [
    "### Visualize whether this product has been ordered by this customer before"
   ]
  },
  {
   "cell_type": "code",
   "execution_count": 31,
   "id": "936c651a",
   "metadata": {
    "scrolled": false
   },
   "outputs": [
    {
     "data": {
      "text/plain": [
       "<AxesSubplot:>"
      ]
     },
     "execution_count": 31,
     "metadata": {},
     "output_type": "execute_result"
    },
    {
     "data": {
      "image/png": "[encoded data removed]",
      "text/plain": [
       "<Figure size 432x288 with 1 Axes>"
      ]
     },
     "metadata": {
      "needs_background": "light"
     },
     "output_type": "display_data"
    }
   ],
   "source": [
    "myDataFrame['reordered'].value_counts().sort_values(ascending = False).plot(kind='bar',color='darkcyan')"
   ]
  },
  {
   "cell_type": "code",
   "execution_count": 32,
   "id": "7000c3ae",
   "metadata": {
    "scrolled": false
   },
   "outputs": [
    {
     "data": {
      "text/plain": [
       "1    14418537\n",
       "0     8288881\n",
       "Name: reordered, dtype: int64"
      ]
     },
     "execution_count": 32,
     "metadata": {},
     "output_type": "execute_result"
    }
   ],
   "source": [
    "myDataFrame['reordered'].value_counts()"
   ]
  },
  {
   "cell_type": "code",
   "execution_count": 33,
   "id": "779738f1",
   "metadata": {},
   "outputs": [
    {
     "name": "stdout",
     "output_type": "stream",
     "text": [
      "ordered before:  0.6349936835619091\n",
      "never ordered before:  0.36500631643809084\n"
     ]
    }
   ],
   "source": [
    "reorder_num = 14419067\n",
    "total_order_count = 22707418\n",
    "\n",
    "print(\"ordered before: \", 14419067/22707418)\n",
    "\n",
    "reorder_0_num = 8288351\n",
    "total_order_count = 22707418\n",
    "\n",
    "print(\"never ordered before: \", 8288351/22707418)"
   ]
  },
  {
   "cell_type": "code",
   "execution_count": 34,
   "id": "4f98290e",
   "metadata": {
    "scrolled": true
   },
   "outputs": [
    {
     "data": {
      "text/plain": [
       "1     1425872\n",
       "3     1409311\n",
       "2     1407832\n",
       "4     1254043\n",
       "5     1124047\n",
       "       ...   \n",
       "95      10586\n",
       "96       9886\n",
       "97       9810\n",
       "98       9547\n",
       "99       8931\n",
       "Name: order_number, Length: 99, dtype: int64"
      ]
     },
     "execution_count": 34,
     "metadata": {},
     "output_type": "execute_result"
    }
   ],
   "source": [
    "myDataFrame['order_number'].value_counts()"
   ]
  },
  {
   "cell_type": "code",
   "execution_count": 35,
   "id": "ec5572ab",
   "metadata": {
    "scrolled": true
   },
   "outputs": [
    {
     "data": {
      "text/plain": [
       "1    14418537\n",
       "0     8288881\n",
       "Name: reordered, dtype: int64"
      ]
     },
     "execution_count": 35,
     "metadata": {},
     "output_type": "execute_result"
    }
   ],
   "source": [
    "myDataFrame['reordered'].value_counts()"
   ]
  },
  {
   "cell_type": "markdown",
   "id": "c4854c39",
   "metadata": {},
   "source": [
    "### To see the average of number of days prior order"
   ]
  },
  {
   "cell_type": "code",
   "execution_count": 36,
   "id": "2cb9fe87",
   "metadata": {},
   "outputs": [],
   "source": [
    "only_days_since = myDataFrame.days_since_prior_order"
   ]
  },
  {
   "cell_type": "code",
   "execution_count": 37,
   "id": "263d83d0",
   "metadata": {},
   "outputs": [],
   "source": [
    "only_days_since_filled = only_days_since.fillna(0)"
   ]
  },
  {
   "cell_type": "code",
   "execution_count": 38,
   "id": "52e8f97e",
   "metadata": {},
   "outputs": [
    {
     "name": "stdout",
     "output_type": "stream",
     "text": [
      "10.318002381424431\n"
     ]
    }
   ],
   "source": [
    "import statistics\n",
    "print(statistics.mean(only_days_since_filled))"
   ]
  },
  {
   "cell_type": "code",
   "execution_count": 39,
   "id": "b651a62b",
   "metadata": {},
   "outputs": [
    {
     "data": {
      "text/html": [
       "<div>\n",
       "<style scoped>\n",
       "    .dataframe tbody tr th:only-of-type {\n",
       "        vertical-align: middle;\n",
       "    }\n",
       "\n",
       "    .dataframe tbody tr th {\n",
       "        vertical-align: top;\n",
       "    }\n",
       "\n",
       "    .dataframe thead th {\n",
       "        text-align: right;\n",
       "    }\n",
       "</style>\n",
       "<table border=\"1\" class=\"dataframe\">\n",
       "  <thead>\n",
       "    <tr style=\"text-align: right;\">\n",
       "      <th></th>\n",
       "      <th>order_id</th>\n",
       "      <th>user_id</th>\n",
       "      <th>order_number</th>\n",
       "      <th>order_dow</th>\n",
       "      <th>order_hour_of_day</th>\n",
       "      <th>days_since_prior_order</th>\n",
       "      <th>product_id</th>\n",
       "      <th>add_to_cart_order</th>\n",
       "      <th>reordered</th>\n",
       "      <th>aisle_id</th>\n",
       "      <th>department_id</th>\n",
       "    </tr>\n",
       "  </thead>\n",
       "  <tbody>\n",
       "    <tr>\n",
       "      <th>count</th>\n",
       "      <td>2.270742e+07</td>\n",
       "      <td>2.270742e+07</td>\n",
       "      <td>2.270742e+07</td>\n",
       "      <td>2.270742e+07</td>\n",
       "      <td>2.270742e+07</td>\n",
       "      <td>21281546.0</td>\n",
       "      <td>2.270742e+07</td>\n",
       "      <td>2.270742e+07</td>\n",
       "      <td>2.270742e+07</td>\n",
       "      <td>2.270742e+07</td>\n",
       "      <td>2.270742e+07</td>\n",
       "    </tr>\n",
       "    <tr>\n",
       "      <th>mean</th>\n",
       "      <td>1.710670e+06</td>\n",
       "      <td>1.029702e+05</td>\n",
       "      <td>1.738874e+01</td>\n",
       "      <td>2.730861e+00</td>\n",
       "      <td>1.341521e+01</td>\n",
       "      <td>NaN</td>\n",
       "      <td>2.596598e+04</td>\n",
       "      <td>8.015661e+00</td>\n",
       "      <td>6.349703e-01</td>\n",
       "      <td>7.034264e+01</td>\n",
       "      <td>8.828490e+00</td>\n",
       "    </tr>\n",
       "    <tr>\n",
       "      <th>std</th>\n",
       "      <td>9.873018e+05</td>\n",
       "      <td>5.947893e+04</td>\n",
       "      <td>1.768313e+01</td>\n",
       "      <td>2.086234e+00</td>\n",
       "      <td>4.252488e+00</td>\n",
       "      <td>0.0</td>\n",
       "      <td>1.400770e+04</td>\n",
       "      <td>6.899042e+00</td>\n",
       "      <td>4.814385e-01</td>\n",
       "      <td>3.840011e+01</td>\n",
       "      <td>6.448508e+00</td>\n",
       "    </tr>\n",
       "    <tr>\n",
       "      <th>min</th>\n",
       "      <td>2.000000e+00</td>\n",
       "      <td>1.000000e+00</td>\n",
       "      <td>1.000000e+00</td>\n",
       "      <td>0.000000e+00</td>\n",
       "      <td>0.000000e+00</td>\n",
       "      <td>0.0</td>\n",
       "      <td>1.000000e+00</td>\n",
       "      <td>1.000000e+00</td>\n",
       "      <td>0.000000e+00</td>\n",
       "      <td>2.000000e+00</td>\n",
       "      <td>1.000000e+00</td>\n",
       "    </tr>\n",
       "    <tr>\n",
       "      <th>25%</th>\n",
       "      <td>8.558230e+05</td>\n",
       "      <td>5.141400e+04</td>\n",
       "      <td>5.000000e+00</td>\n",
       "      <td>1.000000e+00</td>\n",
       "      <td>1.000000e+01</td>\n",
       "      <td>5.0</td>\n",
       "      <td>1.408400e+04</td>\n",
       "      <td>3.000000e+00</td>\n",
       "      <td>0.000000e+00</td>\n",
       "      <td>2.400000e+01</td>\n",
       "      <td>4.000000e+00</td>\n",
       "    </tr>\n",
       "    <tr>\n",
       "      <th>50%</th>\n",
       "      <td>1.710796e+06</td>\n",
       "      <td>1.026560e+05</td>\n",
       "      <td>1.100000e+01</td>\n",
       "      <td>3.000000e+00</td>\n",
       "      <td>1.300000e+01</td>\n",
       "      <td>8.0</td>\n",
       "      <td>2.558800e+04</td>\n",
       "      <td>6.000000e+00</td>\n",
       "      <td>1.000000e+00</td>\n",
       "      <td>8.300000e+01</td>\n",
       "      <td>4.000000e+00</td>\n",
       "    </tr>\n",
       "    <tr>\n",
       "      <th>75%</th>\n",
       "      <td>2.565662e+06</td>\n",
       "      <td>1.544170e+05</td>\n",
       "      <td>2.400000e+01</td>\n",
       "      <td>5.000000e+00</td>\n",
       "      <td>1.600000e+01</td>\n",
       "      <td>15.0</td>\n",
       "      <td>3.838700e+04</td>\n",
       "      <td>1.100000e+01</td>\n",
       "      <td>1.000000e+00</td>\n",
       "      <td>1.070000e+02</td>\n",
       "      <td>1.600000e+01</td>\n",
       "    </tr>\n",
       "    <tr>\n",
       "      <th>max</th>\n",
       "      <td>3.421083e+06</td>\n",
       "      <td>2.062090e+05</td>\n",
       "      <td>9.900000e+01</td>\n",
       "      <td>6.000000e+00</td>\n",
       "      <td>2.300000e+01</td>\n",
       "      <td>30.0</td>\n",
       "      <td>4.968500e+04</td>\n",
       "      <td>1.450000e+02</td>\n",
       "      <td>1.000000e+00</td>\n",
       "      <td>1.290000e+02</td>\n",
       "      <td>1.900000e+01</td>\n",
       "    </tr>\n",
       "  </tbody>\n",
       "</table>\n",
       "</div>"
      ],
      "text/plain": [
       "           order_id       user_id  order_number     order_dow  \\\n",
       "count  2.270742e+07  2.270742e+07  2.270742e+07  2.270742e+07   \n",
       "mean   1.710670e+06  1.029702e+05  1.738874e+01  2.730861e+00   \n",
       "std    9.873018e+05  5.947893e+04  1.768313e+01  2.086234e+00   \n",
       "min    2.000000e+00  1.000000e+00  1.000000e+00  0.000000e+00   \n",
       "25%    8.558230e+05  5.141400e+04  5.000000e+00  1.000000e+00   \n",
       "50%    1.710796e+06  1.026560e+05  1.100000e+01  3.000000e+00   \n",
       "75%    2.565662e+06  1.544170e+05  2.400000e+01  5.000000e+00   \n",
       "max    3.421083e+06  2.062090e+05  9.900000e+01  6.000000e+00   \n",
       "\n",
       "       order_hour_of_day  days_since_prior_order    product_id  \\\n",
       "count       2.270742e+07              21281546.0  2.270742e+07   \n",
       "mean        1.341521e+01                     NaN  2.596598e+04   \n",
       "std         4.252488e+00                     0.0  1.400770e+04   \n",
       "min         0.000000e+00                     0.0  1.000000e+00   \n",
       "25%         1.000000e+01                     5.0  1.408400e+04   \n",
       "50%         1.300000e+01                     8.0  2.558800e+04   \n",
       "75%         1.600000e+01                    15.0  3.838700e+04   \n",
       "max         2.300000e+01                    30.0  4.968500e+04   \n",
       "\n",
       "       add_to_cart_order     reordered      aisle_id  department_id  \n",
       "count       2.270742e+07  2.270742e+07  2.270742e+07   2.270742e+07  \n",
       "mean        8.015661e+00  6.349703e-01  7.034264e+01   8.828490e+00  \n",
       "std         6.899042e+00  4.814385e-01  3.840011e+01   6.448508e+00  \n",
       "min         1.000000e+00  0.000000e+00  2.000000e+00   1.000000e+00  \n",
       "25%         3.000000e+00  0.000000e+00  2.400000e+01   4.000000e+00  \n",
       "50%         6.000000e+00  1.000000e+00  8.300000e+01   4.000000e+00  \n",
       "75%         1.100000e+01  1.000000e+00  1.070000e+02   1.600000e+01  \n",
       "max         1.450000e+02  1.000000e+00  1.290000e+02   1.900000e+01  "
      ]
     },
     "execution_count": 39,
     "metadata": {},
     "output_type": "execute_result"
    }
   ],
   "source": [
    "myDataFrame.describe()"
   ]
  },
  {
   "cell_type": "code",
   "execution_count": 40,
   "id": "d62513d0",
   "metadata": {
    "scrolled": true
   },
   "outputs": [
    {
     "data": {
      "text/plain": [
       "24     3640713\n",
       "83     3419156\n",
       "123    1766440\n",
       "120    1453918\n",
       "21      979693\n",
       "84      892275\n",
       "115     841538\n",
       "107     723028\n",
       "91      636918\n",
       "31      577018\n",
       "116     521527\n",
       "37      498416\n",
       "78      459396\n",
       "3       455524\n",
       "86      451342\n",
       "38      391369\n",
       "16      377725\n",
       "77      357635\n",
       "98      333210\n",
       "53      317917\n",
       "108     307832\n",
       "117     306353\n",
       "45      300539\n",
       "32      275257\n",
       "36      254508\n",
       "94      248064\n",
       "61      233331\n",
       "52      233177\n",
       "26      207672\n",
       "129     194548\n",
       "50      175768\n",
       "23      163819\n",
       "79      161930\n",
       "64      103592\n",
       "42       98995\n",
       "2        81873\n",
       "34       72096\n",
       "58       40046\n",
       "71       37740\n",
       "125      35723\n",
       "46       22969\n",
       "90       21400\n",
       "119      19361\n",
       "103      11100\n",
       "113       4967\n",
       "Name: aisle_id, dtype: int64"
      ]
     },
     "execution_count": 40,
     "metadata": {},
     "output_type": "execute_result"
    }
   ],
   "source": [
    "myDataFrame['aisle_id'].value_counts()"
   ]
  },
  {
   "cell_type": "code",
   "execution_count": null,
   "id": "5b6ac15b",
   "metadata": {},
   "outputs": [],
   "source": []
  },
  {
   "cell_type": "code",
   "execution_count": null,
   "id": "6f923674",
   "metadata": {},
   "outputs": [],
   "source": []
  },
  {
   "cell_type": "code",
   "execution_count": null,
   "id": "e225a655",
   "metadata": {},
   "outputs": [],
   "source": []
  },
  {
   "cell_type": "code",
   "execution_count": null,
   "id": "7221d9c4",
   "metadata": {},
   "outputs": [],
   "source": []
  },
  {
   "cell_type": "code",
   "execution_count": null,
   "id": "24303231",
   "metadata": {},
   "outputs": [],
   "source": []
  },
  {
   "cell_type": "code",
   "execution_count": null,
   "id": "abda7b7f",
   "metadata": {},
   "outputs": [],
   "source": []
  },
  {
   "cell_type": "code",
   "execution_count": null,
   "id": "3156b990",
   "metadata": {},
   "outputs": [],
   "source": []
  },
  {
   "cell_type": "code",
   "execution_count": null,
   "id": "4d5070b1",
   "metadata": {},
   "outputs": [],
   "source": []
  },
  {
   "cell_type": "code",
   "execution_count": null,
   "id": "49671f05",
   "metadata": {},
   "outputs": [],
   "source": []
  },
  {
   "cell_type": "code",
   "execution_count": null,
   "id": "cc467195",
   "metadata": {},
   "outputs": [],
   "source": []
  },
  {
   "cell_type": "code",
   "execution_count": null,
   "id": "557a455c",
   "metadata": {},
   "outputs": [],
   "source": []
  }
 ],
 "metadata": {
  "kernelspec": {
   "display_name": "Python 3 (ipykernel)",
   "language": "python",
   "name": "python3"
  },
  "language_info": {
   "codemirror_mode": {
    "name": "ipython",
    "version": 3
   },
   "file_extension": ".py",
   "mimetype": "text/x-python",
   "name": "python",
   "nbconvert_exporter": "python",
   "pygments_lexer": "ipython3",
   "version": "3.9.7"
  }
 },
 "nbformat": 4,
 "nbformat_minor": 5
}
