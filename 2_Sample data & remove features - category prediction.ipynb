{
 "cells": [
  {
   "cell_type": "markdown",
   "id": "5733fcf4",
   "metadata": {},
   "source": [
    "## Import Packages"
   ]
  },
  {
   "cell_type": "code",
   "execution_count": 106,
   "id": "c1f997b0",
   "metadata": {},
   "outputs": [],
   "source": [
    "import numpy as np # linear algebra\n",
    "import pandas as pd # data processing, CSV file I/O (e.g. pd.read_csv)\n"
   ]
  },
  {
   "cell_type": "markdown",
   "id": "314ccab3",
   "metadata": {},
   "source": [
    "## Reduce memory usage"
   ]
  },
  {
   "cell_type": "code",
   "execution_count": 107,
   "id": "a2f27592",
   "metadata": {},
   "outputs": [],
   "source": [
    "def reduce_mem_usage(df):\n",
    "    \"\"\" iterate through all the columns of a dataframe and modify the data type\n",
    "        to reduce memory usage.        \n",
    "    \"\"\"\n",
    "    start_mem = df.memory_usage().sum() / 1024**2\n",
    "    print('Memory usage of dataframe is {:.2f} MB'.format(start_mem))\n",
    "    \n",
    "    for col in df.columns:\n",
    "        col_type = df[col].dtype\n",
    "        col_type2 = df[col].dtype.name\n",
    "        \n",
    "        if ((col_type != object) and (col_type2 != 'category')):\n",
    "            c_min = df[col].min()\n",
    "            c_max = df[col].max()\n",
    "            if str(col_type)[:3] == 'int':\n",
    "                if c_min > np.iinfo(np.int8).min and c_max < np.iinfo(np.int8).max:\n",
    "                    df[col] = df[col].astype(np.int8)\n",
    "                elif c_min > np.iinfo(np.int16).min and c_max < np.iinfo(np.int16).max:\n",
    "                    df[col] = df[col].astype(np.int16)\n",
    "                elif c_min > np.iinfo(np.int32).min and c_max < np.iinfo(np.int32).max:\n",
    "                    df[col] = df[col].astype(np.int32)\n",
    "                elif c_min > np.iinfo(np.int64).min and c_max < np.iinfo(np.int64).max:\n",
    "                    df[col] = df[col].astype(np.int64)  \n",
    "            else:\n",
    "                if c_min > np.finfo(np.float16).min and c_max < np.finfo(np.float16).max:\n",
    "                    df[col] = df[col].astype(np.float16)\n",
    "                elif c_min > np.finfo(np.float32).min and c_max < np.finfo(np.float32).max:\n",
    "                    df[col] = df[col].astype(np.float32)\n",
    "                else:\n",
    "                    df[col] = df[col].astype(np.float64)\n",
    "        else:\n",
    "            df[col] = df[col].astype('category')\n",
    "\n",
    "    end_mem = df.memory_usage().sum() / 1024**2\n",
    "    print('Memory usage after optimization is: {:.2f} MB'.format(end_mem))\n",
    "    print('Decreased by {:.1f}%'.format(100 * (start_mem - end_mem) / start_mem))\n",
    "    \n",
    "    return df"
   ]
  },
  {
   "cell_type": "markdown",
   "id": "dc2e0274",
   "metadata": {},
   "source": [
    "### Load data"
   ]
  },
  {
   "cell_type": "code",
   "execution_count": 108,
   "id": "5a73f751",
   "metadata": {},
   "outputs": [
    {
     "name": "stdout",
     "output_type": "stream",
     "text": [
      "Memory usage of dataframe is 182.71 MB\n",
      "Memory usage after optimization is: 45.68 MB\n",
      "Decreased by 75.0%\n",
      "Memory usage of dataframe is 989.82 MB\n",
      "Memory usage after optimization is: 340.25 MB\n",
      "Decreased by 65.6%\n",
      "Memory usage of dataframe is 42.26 MB\n",
      "Memory usage after optimization is: 13.20 MB\n",
      "Decreased by 68.7%\n",
      "Memory usage of dataframe is 1.52 MB\n",
      "Memory usage after optimization is: 1.91 MB\n",
      "Decreased by -25.8%\n",
      "Memory usage of dataframe is 0.00 MB\n",
      "Memory usage after optimization is: 0.00 MB\n",
      "Decreased by -92.7%\n",
      "Memory usage of dataframe is 0.00 MB\n",
      "Memory usage after optimization is: 0.01 MB\n",
      "Decreased by -159.9%\n"
     ]
    }
   ],
   "source": [
    "orders = reduce_mem_usage(pd.read_csv('/Users/jass/Documents/masterhsmainz/4th semester summer 2022/Bus Ana/final project/dataset/orders.csv'))\n",
    "order_products_prior = reduce_mem_usage(pd.read_csv('/Users/jass/Documents/masterhsmainz/4th semester summer 2022/Bus Ana/final project/dataset/order_products__prior.csv'))\n",
    "order_products_train = reduce_mem_usage(pd.read_csv('/Users/jass/Documents/masterhsmainz/4th semester summer 2022/Bus Ana/final project/dataset/order_products__train.csv'))\n",
    "products = reduce_mem_usage(pd.read_csv('/Users/jass/Documents/masterhsmainz/4th semester summer 2022/Bus Ana/final project/dataset/products.csv'))\n",
    "departments = reduce_mem_usage(pd.read_csv('/Users/jass/Documents/masterhsmainz/4th semester summer 2022/Bus Ana/final project/dataset/departments.csv'))\n",
    "aisles = reduce_mem_usage(pd.read_csv('/Users/jass/Documents/masterhsmainz/4th semester summer 2022/Bus Ana/final project/dataset/aisles.csv'))"
   ]
  },
  {
   "cell_type": "code",
   "execution_count": 109,
   "id": "dc7b37a6",
   "metadata": {},
   "outputs": [
    {
     "name": "stdout",
     "output_type": "stream",
     "text": [
      "(3421083, 7)\n",
      "(32434489, 4)\n",
      "(1384617, 4)\n",
      "(49688, 4)\n",
      "(21, 2)\n",
      "(134, 2)\n"
     ]
    }
   ],
   "source": [
    "print(orders.shape)\n",
    "print(order_products_prior.shape)\n",
    "print(order_products_train.shape)\n",
    "print(products.shape)\n",
    "print(departments.shape)\n",
    "print(aisles.shape)"
   ]
  },
  {
   "cell_type": "code",
   "execution_count": 110,
   "id": "b8c7335e",
   "metadata": {},
   "outputs": [
    {
     "data": {
      "text/html": [
       "<div>\n",
       "<style scoped>\n",
       "    .dataframe tbody tr th:only-of-type {\n",
       "        vertical-align: middle;\n",
       "    }\n",
       "\n",
       "    .dataframe tbody tr th {\n",
       "        vertical-align: top;\n",
       "    }\n",
       "\n",
       "    .dataframe thead th {\n",
       "        text-align: right;\n",
       "    }\n",
       "</style>\n",
       "<table border=\"1\" class=\"dataframe\">\n",
       "  <thead>\n",
       "    <tr style=\"text-align: right;\">\n",
       "      <th></th>\n",
       "      <th>product_id</th>\n",
       "      <th>product_name</th>\n",
       "      <th>aisle_id</th>\n",
       "      <th>department_id</th>\n",
       "    </tr>\n",
       "  </thead>\n",
       "  <tbody>\n",
       "    <tr>\n",
       "      <th>0</th>\n",
       "      <td>1</td>\n",
       "      <td>Chocolate Sandwich Cookies</td>\n",
       "      <td>61</td>\n",
       "      <td>19</td>\n",
       "    </tr>\n",
       "    <tr>\n",
       "      <th>1</th>\n",
       "      <td>2</td>\n",
       "      <td>All-Seasons Salt</td>\n",
       "      <td>104</td>\n",
       "      <td>13</td>\n",
       "    </tr>\n",
       "    <tr>\n",
       "      <th>2</th>\n",
       "      <td>3</td>\n",
       "      <td>Robust Golden Unsweetened Oolong Tea</td>\n",
       "      <td>94</td>\n",
       "      <td>7</td>\n",
       "    </tr>\n",
       "    <tr>\n",
       "      <th>3</th>\n",
       "      <td>4</td>\n",
       "      <td>Smart Ones Classic Favorites Mini Rigatoni Wit...</td>\n",
       "      <td>38</td>\n",
       "      <td>1</td>\n",
       "    </tr>\n",
       "    <tr>\n",
       "      <th>4</th>\n",
       "      <td>5</td>\n",
       "      <td>Green Chile Anytime Sauce</td>\n",
       "      <td>5</td>\n",
       "      <td>13</td>\n",
       "    </tr>\n",
       "  </tbody>\n",
       "</table>\n",
       "</div>"
      ],
      "text/plain": [
       "   product_id                                       product_name  aisle_id  \\\n",
       "0           1                         Chocolate Sandwich Cookies        61   \n",
       "1           2                                   All-Seasons Salt       104   \n",
       "2           3               Robust Golden Unsweetened Oolong Tea        94   \n",
       "3           4  Smart Ones Classic Favorites Mini Rigatoni Wit...        38   \n",
       "4           5                          Green Chile Anytime Sauce         5   \n",
       "\n",
       "   department_id  \n",
       "0             19  \n",
       "1             13  \n",
       "2              7  \n",
       "3              1  \n",
       "4             13  "
      ]
     },
     "execution_count": 110,
     "metadata": {},
     "output_type": "execute_result"
    }
   ],
   "source": [
    "products.head()"
   ]
  },
  {
   "cell_type": "code",
   "execution_count": 111,
   "id": "434095cb",
   "metadata": {},
   "outputs": [],
   "source": [
    "prior_df = orders[orders.eval_set == 'prior']"
   ]
  },
  {
   "cell_type": "code",
   "execution_count": 112,
   "id": "dc4f5677",
   "metadata": {},
   "outputs": [
    {
     "name": "stdout",
     "output_type": "stream",
     "text": [
      "Memory usage of dataframe is 897.03 MB\n",
      "Memory usage after optimization is: 897.03 MB\n",
      "Decreased by 0.0%\n"
     ]
    },
    {
     "data": {
      "text/html": [
       "<div>\n",
       "<style scoped>\n",
       "    .dataframe tbody tr th:only-of-type {\n",
       "        vertical-align: middle;\n",
       "    }\n",
       "\n",
       "    .dataframe tbody tr th {\n",
       "        vertical-align: top;\n",
       "    }\n",
       "\n",
       "    .dataframe thead th {\n",
       "        text-align: right;\n",
       "    }\n",
       "</style>\n",
       "<table border=\"1\" class=\"dataframe\">\n",
       "  <thead>\n",
       "    <tr style=\"text-align: right;\">\n",
       "      <th></th>\n",
       "      <th>order_id</th>\n",
       "      <th>user_id</th>\n",
       "      <th>eval_set</th>\n",
       "      <th>order_number</th>\n",
       "      <th>order_dow</th>\n",
       "      <th>order_hour_of_day</th>\n",
       "      <th>days_since_prior_order</th>\n",
       "      <th>product_id</th>\n",
       "      <th>add_to_cart_order</th>\n",
       "      <th>reordered</th>\n",
       "    </tr>\n",
       "  </thead>\n",
       "  <tbody>\n",
       "    <tr>\n",
       "      <th>0</th>\n",
       "      <td>2539329</td>\n",
       "      <td>1</td>\n",
       "      <td>prior</td>\n",
       "      <td>1</td>\n",
       "      <td>2</td>\n",
       "      <td>8</td>\n",
       "      <td>NaN</td>\n",
       "      <td>196</td>\n",
       "      <td>1</td>\n",
       "      <td>0</td>\n",
       "    </tr>\n",
       "    <tr>\n",
       "      <th>1</th>\n",
       "      <td>2539329</td>\n",
       "      <td>1</td>\n",
       "      <td>prior</td>\n",
       "      <td>1</td>\n",
       "      <td>2</td>\n",
       "      <td>8</td>\n",
       "      <td>NaN</td>\n",
       "      <td>14084</td>\n",
       "      <td>2</td>\n",
       "      <td>0</td>\n",
       "    </tr>\n",
       "    <tr>\n",
       "      <th>2</th>\n",
       "      <td>2539329</td>\n",
       "      <td>1</td>\n",
       "      <td>prior</td>\n",
       "      <td>1</td>\n",
       "      <td>2</td>\n",
       "      <td>8</td>\n",
       "      <td>NaN</td>\n",
       "      <td>12427</td>\n",
       "      <td>3</td>\n",
       "      <td>0</td>\n",
       "    </tr>\n",
       "    <tr>\n",
       "      <th>3</th>\n",
       "      <td>2539329</td>\n",
       "      <td>1</td>\n",
       "      <td>prior</td>\n",
       "      <td>1</td>\n",
       "      <td>2</td>\n",
       "      <td>8</td>\n",
       "      <td>NaN</td>\n",
       "      <td>26088</td>\n",
       "      <td>4</td>\n",
       "      <td>0</td>\n",
       "    </tr>\n",
       "    <tr>\n",
       "      <th>4</th>\n",
       "      <td>2539329</td>\n",
       "      <td>1</td>\n",
       "      <td>prior</td>\n",
       "      <td>1</td>\n",
       "      <td>2</td>\n",
       "      <td>8</td>\n",
       "      <td>NaN</td>\n",
       "      <td>26405</td>\n",
       "      <td>5</td>\n",
       "      <td>0</td>\n",
       "    </tr>\n",
       "  </tbody>\n",
       "</table>\n",
       "</div>"
      ],
      "text/plain": [
       "   order_id  user_id eval_set  order_number  order_dow  order_hour_of_day  \\\n",
       "0   2539329        1    prior             1          2                  8   \n",
       "1   2539329        1    prior             1          2                  8   \n",
       "2   2539329        1    prior             1          2                  8   \n",
       "3   2539329        1    prior             1          2                  8   \n",
       "4   2539329        1    prior             1          2                  8   \n",
       "\n",
       "   days_since_prior_order  product_id  add_to_cart_order  reordered  \n",
       "0                     NaN         196                  1          0  \n",
       "1                     NaN       14084                  2          0  \n",
       "2                     NaN       12427                  3          0  \n",
       "3                     NaN       26088                  4          0  \n",
       "4                     NaN       26405                  5          0  "
      ]
     },
     "execution_count": 112,
     "metadata": {},
     "output_type": "execute_result"
    }
   ],
   "source": [
    "temp = reduce_mem_usage(pd.merge(left=prior_df, right=order_products_prior, on='order_id'))\n",
    "temp.head()"
   ]
  },
  {
   "cell_type": "code",
   "execution_count": 113,
   "id": "6310cf81",
   "metadata": {},
   "outputs": [
    {
     "data": {
      "text/plain": [
       "<AxesSubplot:xlabel='order_hour_of_day', ylabel='Count'>"
      ]
     },
     "execution_count": 113,
     "metadata": {},
     "output_type": "execute_result"
    },
    {
     "data": {
      "image/png": "[encoded data removed]",
      "text/plain": [
       "<Figure size 720x432 with 1 Axes>"
      ]
     },
     "metadata": {
      "needs_background": "light"
     },
     "output_type": "display_data"
    }
   ],
   "source": [
    "import seaborn as sns\n",
    "\n",
    "import matplotlib.pyplot as plt\n",
    "\n",
    "plt.figure(figsize=(10,6))\n",
    "\n",
    "sns.histplot(x='order_hour_of_day',data=temp)"
   ]
  },
  {
   "cell_type": "code",
   "execution_count": 114,
   "id": "37706f7c",
   "metadata": {},
   "outputs": [
    {
     "name": "stdout",
     "output_type": "stream",
     "text": [
      "Memory usage of dataframe is 2.39 MB\n",
      "Memory usage after optimization is: 2.39 MB\n",
      "Decreased by 0.0%\n",
      "Memory usage of dataframe is 2.44 MB\n",
      "Memory usage after optimization is: 2.44 MB\n",
      "Decreased by 0.0%\n"
     ]
    },
    {
     "data": {
      "text/html": [
       "<div>\n",
       "<style scoped>\n",
       "    .dataframe tbody tr th:only-of-type {\n",
       "        vertical-align: middle;\n",
       "    }\n",
       "\n",
       "    .dataframe tbody tr th {\n",
       "        vertical-align: top;\n",
       "    }\n",
       "\n",
       "    .dataframe thead th {\n",
       "        text-align: right;\n",
       "    }\n",
       "</style>\n",
       "<table border=\"1\" class=\"dataframe\">\n",
       "  <thead>\n",
       "    <tr style=\"text-align: right;\">\n",
       "      <th></th>\n",
       "      <th>product_id</th>\n",
       "      <th>product_name</th>\n",
       "      <th>aisle_id</th>\n",
       "      <th>department_id</th>\n",
       "      <th>aisle</th>\n",
       "      <th>department</th>\n",
       "    </tr>\n",
       "  </thead>\n",
       "  <tbody>\n",
       "    <tr>\n",
       "      <th>0</th>\n",
       "      <td>1</td>\n",
       "      <td>Chocolate Sandwich Cookies</td>\n",
       "      <td>61</td>\n",
       "      <td>19</td>\n",
       "      <td>cookies cakes</td>\n",
       "      <td>snacks</td>\n",
       "    </tr>\n",
       "    <tr>\n",
       "      <th>1</th>\n",
       "      <td>78</td>\n",
       "      <td>Nutter Butter Cookie Bites Go-Pak</td>\n",
       "      <td>61</td>\n",
       "      <td>19</td>\n",
       "      <td>cookies cakes</td>\n",
       "      <td>snacks</td>\n",
       "    </tr>\n",
       "    <tr>\n",
       "      <th>2</th>\n",
       "      <td>102</td>\n",
       "      <td>Danish Butter Cookies</td>\n",
       "      <td>61</td>\n",
       "      <td>19</td>\n",
       "      <td>cookies cakes</td>\n",
       "      <td>snacks</td>\n",
       "    </tr>\n",
       "    <tr>\n",
       "      <th>3</th>\n",
       "      <td>172</td>\n",
       "      <td>Gluten Free All Natural Chocolate Chip Cookies</td>\n",
       "      <td>61</td>\n",
       "      <td>19</td>\n",
       "      <td>cookies cakes</td>\n",
       "      <td>snacks</td>\n",
       "    </tr>\n",
       "    <tr>\n",
       "      <th>4</th>\n",
       "      <td>285</td>\n",
       "      <td>Mini Nilla Wafers Munch Pack</td>\n",
       "      <td>61</td>\n",
       "      <td>19</td>\n",
       "      <td>cookies cakes</td>\n",
       "      <td>snacks</td>\n",
       "    </tr>\n",
       "    <tr>\n",
       "      <th>...</th>\n",
       "      <td>...</td>\n",
       "      <td>...</td>\n",
       "      <td>...</td>\n",
       "      <td>...</td>\n",
       "      <td>...</td>\n",
       "      <td>...</td>\n",
       "    </tr>\n",
       "    <tr>\n",
       "      <th>49683</th>\n",
       "      <td>22827</td>\n",
       "      <td>Organic Black Mission Figs</td>\n",
       "      <td>18</td>\n",
       "      <td>10</td>\n",
       "      <td>bulk dried fruits vegetables</td>\n",
       "      <td>bulk</td>\n",
       "    </tr>\n",
       "    <tr>\n",
       "      <th>49684</th>\n",
       "      <td>28655</td>\n",
       "      <td>Crystallized Ginger Chunks</td>\n",
       "      <td>18</td>\n",
       "      <td>10</td>\n",
       "      <td>bulk dried fruits vegetables</td>\n",
       "      <td>bulk</td>\n",
       "    </tr>\n",
       "    <tr>\n",
       "      <th>49685</th>\n",
       "      <td>30365</td>\n",
       "      <td>Vegetable Chips</td>\n",
       "      <td>18</td>\n",
       "      <td>10</td>\n",
       "      <td>bulk dried fruits vegetables</td>\n",
       "      <td>bulk</td>\n",
       "    </tr>\n",
       "    <tr>\n",
       "      <th>49686</th>\n",
       "      <td>38007</td>\n",
       "      <td>Naturally Sweet Plantain Chips</td>\n",
       "      <td>18</td>\n",
       "      <td>10</td>\n",
       "      <td>bulk dried fruits vegetables</td>\n",
       "      <td>bulk</td>\n",
       "    </tr>\n",
       "    <tr>\n",
       "      <th>49687</th>\n",
       "      <td>48778</td>\n",
       "      <td>Fit Super A Juice, Cold Pressed, Carrot/Apple/...</td>\n",
       "      <td>18</td>\n",
       "      <td>10</td>\n",
       "      <td>bulk dried fruits vegetables</td>\n",
       "      <td>bulk</td>\n",
       "    </tr>\n",
       "  </tbody>\n",
       "</table>\n",
       "<p>49688 rows × 6 columns</p>\n",
       "</div>"
      ],
      "text/plain": [
       "       product_id                                       product_name  \\\n",
       "0               1                         Chocolate Sandwich Cookies   \n",
       "1              78                  Nutter Butter Cookie Bites Go-Pak   \n",
       "2             102                              Danish Butter Cookies   \n",
       "3             172     Gluten Free All Natural Chocolate Chip Cookies   \n",
       "4             285                       Mini Nilla Wafers Munch Pack   \n",
       "...           ...                                                ...   \n",
       "49683       22827                         Organic Black Mission Figs   \n",
       "49684       28655                         Crystallized Ginger Chunks   \n",
       "49685       30365                                    Vegetable Chips   \n",
       "49686       38007                     Naturally Sweet Plantain Chips   \n",
       "49687       48778  Fit Super A Juice, Cold Pressed, Carrot/Apple/...   \n",
       "\n",
       "       aisle_id  department_id                         aisle department  \n",
       "0            61             19                 cookies cakes     snacks  \n",
       "1            61             19                 cookies cakes     snacks  \n",
       "2            61             19                 cookies cakes     snacks  \n",
       "3            61             19                 cookies cakes     snacks  \n",
       "4            61             19                 cookies cakes     snacks  \n",
       "...         ...            ...                           ...        ...  \n",
       "49683        18             10  bulk dried fruits vegetables       bulk  \n",
       "49684        18             10  bulk dried fruits vegetables       bulk  \n",
       "49685        18             10  bulk dried fruits vegetables       bulk  \n",
       "49686        18             10  bulk dried fruits vegetables       bulk  \n",
       "49687        18             10  bulk dried fruits vegetables       bulk  \n",
       "\n",
       "[49688 rows x 6 columns]"
      ]
     },
     "execution_count": 114,
     "metadata": {},
     "output_type": "execute_result"
    }
   ],
   "source": [
    "temp2 = reduce_mem_usage(pd.merge(left=products, right=aisles, on='aisle_id'))\n",
    "temp3 = reduce_mem_usage(pd.merge(left=temp2, right=departments, on='department_id'))\n",
    "temp3"
   ]
  },
  {
   "cell_type": "code",
   "execution_count": 115,
   "id": "1bd9a317",
   "metadata": {},
   "outputs": [
    {
     "name": "stdout",
     "output_type": "stream",
     "text": [
      "Memory usage of dataframe is 1207.74 MB\n",
      "Memory usage after optimization is: 1207.74 MB\n",
      "Decreased by 0.0%\n"
     ]
    }
   ],
   "source": [
    "final_prior_df = reduce_mem_usage(pd.merge(left=temp, right=temp3, on='product_id'))"
   ]
  },
  {
   "cell_type": "code",
   "execution_count": 116,
   "id": "19d46a0b",
   "metadata": {},
   "outputs": [
    {
     "data": {
      "text/plain": [
       "Index(['order_id', 'user_id', 'eval_set', 'order_number', 'order_dow',\n",
       "       'order_hour_of_day', 'days_since_prior_order', 'product_id',\n",
       "       'add_to_cart_order', 'reordered', 'product_name', 'aisle_id',\n",
       "       'department_id', 'aisle', 'department'],\n",
       "      dtype='object')"
      ]
     },
     "execution_count": 116,
     "metadata": {},
     "output_type": "execute_result"
    }
   ],
   "source": [
    "final_prior_df.columns"
   ]
  },
  {
   "cell_type": "code",
   "execution_count": 117,
   "id": "6aa92434",
   "metadata": {},
   "outputs": [
    {
     "data": {
      "text/plain": [
       "(32434489, 15)"
      ]
     },
     "execution_count": 117,
     "metadata": {},
     "output_type": "execute_result"
    }
   ],
   "source": [
    "final_prior_df.shape"
   ]
  },
  {
   "cell_type": "code",
   "execution_count": 118,
   "id": "a9ae4b0a",
   "metadata": {},
   "outputs": [
    {
     "data": {
      "text/html": [
       "<div>\n",
       "<style scoped>\n",
       "    .dataframe tbody tr th:only-of-type {\n",
       "        vertical-align: middle;\n",
       "    }\n",
       "\n",
       "    .dataframe tbody tr th {\n",
       "        vertical-align: top;\n",
       "    }\n",
       "\n",
       "    .dataframe thead th {\n",
       "        text-align: right;\n",
       "    }\n",
       "</style>\n",
       "<table border=\"1\" class=\"dataframe\">\n",
       "  <thead>\n",
       "    <tr style=\"text-align: right;\">\n",
       "      <th></th>\n",
       "      <th>order_id</th>\n",
       "      <th>user_id</th>\n",
       "      <th>eval_set</th>\n",
       "      <th>order_number</th>\n",
       "      <th>order_dow</th>\n",
       "      <th>order_hour_of_day</th>\n",
       "      <th>days_since_prior_order</th>\n",
       "      <th>product_id</th>\n",
       "      <th>add_to_cart_order</th>\n",
       "      <th>reordered</th>\n",
       "      <th>product_name</th>\n",
       "      <th>aisle_id</th>\n",
       "      <th>department_id</th>\n",
       "      <th>aisle</th>\n",
       "      <th>department</th>\n",
       "    </tr>\n",
       "  </thead>\n",
       "  <tbody>\n",
       "    <tr>\n",
       "      <th>0</th>\n",
       "      <td>2539329</td>\n",
       "      <td>1</td>\n",
       "      <td>prior</td>\n",
       "      <td>1</td>\n",
       "      <td>2</td>\n",
       "      <td>8</td>\n",
       "      <td>NaN</td>\n",
       "      <td>196</td>\n",
       "      <td>1</td>\n",
       "      <td>0</td>\n",
       "      <td>Soda</td>\n",
       "      <td>77</td>\n",
       "      <td>7</td>\n",
       "      <td>soft drinks</td>\n",
       "      <td>beverages</td>\n",
       "    </tr>\n",
       "    <tr>\n",
       "      <th>1</th>\n",
       "      <td>2398795</td>\n",
       "      <td>1</td>\n",
       "      <td>prior</td>\n",
       "      <td>2</td>\n",
       "      <td>3</td>\n",
       "      <td>7</td>\n",
       "      <td>15.0</td>\n",
       "      <td>196</td>\n",
       "      <td>1</td>\n",
       "      <td>1</td>\n",
       "      <td>Soda</td>\n",
       "      <td>77</td>\n",
       "      <td>7</td>\n",
       "      <td>soft drinks</td>\n",
       "      <td>beverages</td>\n",
       "    </tr>\n",
       "    <tr>\n",
       "      <th>2</th>\n",
       "      <td>473747</td>\n",
       "      <td>1</td>\n",
       "      <td>prior</td>\n",
       "      <td>3</td>\n",
       "      <td>3</td>\n",
       "      <td>12</td>\n",
       "      <td>21.0</td>\n",
       "      <td>196</td>\n",
       "      <td>1</td>\n",
       "      <td>1</td>\n",
       "      <td>Soda</td>\n",
       "      <td>77</td>\n",
       "      <td>7</td>\n",
       "      <td>soft drinks</td>\n",
       "      <td>beverages</td>\n",
       "    </tr>\n",
       "    <tr>\n",
       "      <th>3</th>\n",
       "      <td>2254736</td>\n",
       "      <td>1</td>\n",
       "      <td>prior</td>\n",
       "      <td>4</td>\n",
       "      <td>4</td>\n",
       "      <td>7</td>\n",
       "      <td>29.0</td>\n",
       "      <td>196</td>\n",
       "      <td>1</td>\n",
       "      <td>1</td>\n",
       "      <td>Soda</td>\n",
       "      <td>77</td>\n",
       "      <td>7</td>\n",
       "      <td>soft drinks</td>\n",
       "      <td>beverages</td>\n",
       "    </tr>\n",
       "    <tr>\n",
       "      <th>4</th>\n",
       "      <td>431534</td>\n",
       "      <td>1</td>\n",
       "      <td>prior</td>\n",
       "      <td>5</td>\n",
       "      <td>4</td>\n",
       "      <td>15</td>\n",
       "      <td>28.0</td>\n",
       "      <td>196</td>\n",
       "      <td>1</td>\n",
       "      <td>1</td>\n",
       "      <td>Soda</td>\n",
       "      <td>77</td>\n",
       "      <td>7</td>\n",
       "      <td>soft drinks</td>\n",
       "      <td>beverages</td>\n",
       "    </tr>\n",
       "  </tbody>\n",
       "</table>\n",
       "</div>"
      ],
      "text/plain": [
       "   order_id  user_id eval_set  order_number  order_dow  order_hour_of_day  \\\n",
       "0   2539329        1    prior             1          2                  8   \n",
       "1   2398795        1    prior             2          3                  7   \n",
       "2    473747        1    prior             3          3                 12   \n",
       "3   2254736        1    prior             4          4                  7   \n",
       "4    431534        1    prior             5          4                 15   \n",
       "\n",
       "   days_since_prior_order  product_id  add_to_cart_order  reordered  \\\n",
       "0                     NaN         196                  1          0   \n",
       "1                    15.0         196                  1          1   \n",
       "2                    21.0         196                  1          1   \n",
       "3                    29.0         196                  1          1   \n",
       "4                    28.0         196                  1          1   \n",
       "\n",
       "  product_name  aisle_id  department_id        aisle department  \n",
       "0         Soda        77              7  soft drinks  beverages  \n",
       "1         Soda        77              7  soft drinks  beverages  \n",
       "2         Soda        77              7  soft drinks  beverages  \n",
       "3         Soda        77              7  soft drinks  beverages  \n",
       "4         Soda        77              7  soft drinks  beverages  "
      ]
     },
     "execution_count": 118,
     "metadata": {},
     "output_type": "execute_result"
    }
   ],
   "source": [
    "final_prior_df.head()"
   ]
  },
  {
   "cell_type": "code",
   "execution_count": 119,
   "id": "721308af",
   "metadata": {
    "scrolled": true
   },
   "outputs": [
    {
     "data": {
      "text/plain": [
       "bulk                 34573\n",
       "other                36291\n",
       "missing              69145\n",
       "pets                 97724\n",
       "alcohol             153696\n",
       "international       269253\n",
       "babies              423802\n",
       "personal care       447123\n",
       "meat seafood        708931\n",
       "breakfast           709569\n",
       "household           738666\n",
       "dry goods pasta     866627\n",
       "deli               1051249\n",
       "canned goods       1068058\n",
       "bakery             1176787\n",
       "pantry             1875577\n",
       "frozen             2236432\n",
       "beverages          2690129\n",
       "snacks             2887550\n",
       "dairy eggs         5414016\n",
       "produce            9479291\n",
       "Name: department, dtype: int64"
      ]
     },
     "execution_count": 119,
     "metadata": {},
     "output_type": "execute_result"
    }
   ],
   "source": [
    "final_prior_df['department'].value_counts().sort_values(ascending=True)"
   ]
  },
  {
   "cell_type": "markdown",
   "id": "b9a95a1a",
   "metadata": {},
   "source": [
    "### Getting only 20,000 orders (randomly) from the five most ordered categories"
   ]
  },
  {
   "cell_type": "code",
   "execution_count": 120,
   "id": "d04fa931",
   "metadata": {},
   "outputs": [
    {
     "data": {
      "text/plain": [
       "(20000, 15)"
      ]
     },
     "execution_count": 120,
     "metadata": {},
     "output_type": "execute_result"
    }
   ],
   "source": [
    "#sample 20,000 of produce\n",
    "final_prior_df_produce = final_prior_df[final_prior_df.department == 'produce']\n",
    "rows = np.random.choice(final_prior_df_produce.index.values, 20000)\n",
    "sampled_produce = final_prior_df_produce.loc[rows]\n",
    "sampled_produce.shape"
   ]
  },
  {
   "cell_type": "code",
   "execution_count": 121,
   "id": "e46040a3",
   "metadata": {},
   "outputs": [
    {
     "data": {
      "text/plain": [
       "(20000, 15)"
      ]
     },
     "execution_count": 121,
     "metadata": {},
     "output_type": "execute_result"
    }
   ],
   "source": [
    "#sample 20,000 of dairy eggs\n",
    "final_prior_df_dairyeggs = final_prior_df[final_prior_df.department == 'dairy eggs']\n",
    "rows = np.random.choice(final_prior_df_dairyeggs.index.values, 20000)\n",
    "sampled_dairyeggs = final_prior_df_dairyeggs.loc[rows]\n",
    "sampled_dairyeggs.shape"
   ]
  },
  {
   "cell_type": "code",
   "execution_count": 122,
   "id": "3588a1f2",
   "metadata": {},
   "outputs": [
    {
     "data": {
      "text/plain": [
       "(20000, 15)"
      ]
     },
     "execution_count": 122,
     "metadata": {},
     "output_type": "execute_result"
    }
   ],
   "source": [
    "#sample 20,000 of snacks\n",
    "final_prior_df_snacks = final_prior_df[final_prior_df.department == 'snacks']\n",
    "rows = np.random.choice(final_prior_df_snacks.index.values, 20000)\n",
    "sampled_snacks = final_prior_df_snacks.loc[rows]\n",
    "sampled_snacks.shape"
   ]
  },
  {
   "cell_type": "code",
   "execution_count": 123,
   "id": "f514dd1b",
   "metadata": {},
   "outputs": [
    {
     "data": {
      "text/plain": [
       "(20000, 15)"
      ]
     },
     "execution_count": 123,
     "metadata": {},
     "output_type": "execute_result"
    }
   ],
   "source": [
    "#sample 20,000 of beverages\n",
    "final_prior_df_beverages = final_prior_df[final_prior_df.department == 'beverages']\n",
    "rows = np.random.choice(final_prior_df_beverages.index.values, 20000)\n",
    "sampled_beverages = final_prior_df_beverages.loc[rows]\n",
    "sampled_beverages.shape"
   ]
  },
  {
   "cell_type": "code",
   "execution_count": 124,
   "id": "64e2ddb7",
   "metadata": {},
   "outputs": [
    {
     "data": {
      "text/plain": [
       "(20000, 15)"
      ]
     },
     "execution_count": 124,
     "metadata": {},
     "output_type": "execute_result"
    }
   ],
   "source": [
    "#sample 20,000 of frozen\n",
    "final_prior_df_frozen = final_prior_df[final_prior_df.department == 'frozen']\n",
    "rows = np.random.choice(final_prior_df_frozen.index.values, 20000)\n",
    "sampled_frozen = final_prior_df_frozen.loc[rows]\n",
    "sampled_frozen.shape"
   ]
  },
  {
   "cell_type": "code",
   "execution_count": 125,
   "id": "455ce769",
   "metadata": {},
   "outputs": [
    {
     "name": "stdout",
     "output_type": "stream",
     "text": [
      "(20000, 15)\n",
      "(20000, 15)\n",
      "(20000, 15)\n",
      "(20000, 15)\n",
      "(20000, 15)\n"
     ]
    }
   ],
   "source": [
    "print(sampled_produce.shape)\n",
    "print(sampled_dairyeggs.shape)\n",
    "print(sampled_snacks.shape)\n",
    "print(sampled_beverages.shape)\n",
    "print(sampled_frozen.shape)"
   ]
  },
  {
   "cell_type": "code",
   "execution_count": 126,
   "id": "88906f2d",
   "metadata": {
    "collapsed": true
   },
   "outputs": [
    {
     "name": "stderr",
     "output_type": "stream",
     "text": [
      "/var/folders/pv/3tp757f9271btvqh0thcbp4w0000gn/T/ipykernel_10709/1144455515.py:5: FutureWarning: The default dtype for empty Series will be 'object' instead of 'float64' in a future version. Specify a dtype explicitly to silence this warning.\n",
      "  start_mem = df.memory_usage().sum() / 1024**2\n",
      "/var/folders/pv/3tp757f9271btvqh0thcbp4w0000gn/T/ipykernel_10709/1144455515.py:34: FutureWarning: The default dtype for empty Series will be 'object' instead of 'float64' in a future version. Specify a dtype explicitly to silence this warning.\n",
      "  end_mem = df.memory_usage().sum() / 1024**2\n",
      "/var/folders/pv/3tp757f9271btvqh0thcbp4w0000gn/T/ipykernel_10709/1144455515.py:36: RuntimeWarning: invalid value encountered in double_scalars\n",
      "  print('Decreased by {:.1f}%'.format(100 * (start_mem - end_mem) / start_mem))\n",
      "/var/folders/pv/3tp757f9271btvqh0thcbp4w0000gn/T/ipykernel_10709/2056993344.py:5: FutureWarning: The frame.append method is deprecated and will be removed from pandas in a future version. Use pandas.concat instead.\n",
      "  myDataFrame = myDataFrame.append(df)\n",
      "/var/folders/pv/3tp757f9271btvqh0thcbp4w0000gn/T/ipykernel_10709/2056993344.py:5: FutureWarning: The frame.append method is deprecated and will be removed from pandas in a future version. Use pandas.concat instead.\n",
      "  myDataFrame = myDataFrame.append(df)\n",
      "/var/folders/pv/3tp757f9271btvqh0thcbp4w0000gn/T/ipykernel_10709/2056993344.py:5: FutureWarning: The frame.append method is deprecated and will be removed from pandas in a future version. Use pandas.concat instead.\n",
      "  myDataFrame = myDataFrame.append(df)\n",
      "/var/folders/pv/3tp757f9271btvqh0thcbp4w0000gn/T/ipykernel_10709/2056993344.py:5: FutureWarning: The frame.append method is deprecated and will be removed from pandas in a future version. Use pandas.concat instead.\n",
      "  myDataFrame = myDataFrame.append(df)\n",
      "/var/folders/pv/3tp757f9271btvqh0thcbp4w0000gn/T/ipykernel_10709/2056993344.py:5: FutureWarning: The frame.append method is deprecated and will be removed from pandas in a future version. Use pandas.concat instead.\n",
      "  myDataFrame = myDataFrame.append(df)\n"
     ]
    },
    {
     "name": "stdout",
     "output_type": "stream",
     "text": [
      "Memory usage of dataframe is 0.00 MB\n",
      "Memory usage after optimization is: 0.00 MB\n",
      "Decreased by nan%\n"
     ]
    }
   ],
   "source": [
    "# append all product, dairy egg, snacks, beverages, and frozen together\n",
    "frame = [sampled_produce,sampled_dairyeggs,sampled_snacks,sampled_beverages,sampled_frozen]\n",
    "myDataFrame = reduce_mem_usage(pd.DataFrame())\n",
    "for df in frame:\n",
    "    myDataFrame = myDataFrame.append(df)\n",
    "#final_prior_df_appended = final_prior_df_produce.append(final_prior_df_dairyeggs,final_prior_df_snacks,final_prior_df_beverages,final_prior_df_frozen,final_prior_df_pantry,final_prior_df_bakery,final_prior_df_cannedgoods,final_prior_df_deli,final_prior_df_meatseafood)"
   ]
  },
  {
   "cell_type": "code",
   "execution_count": 127,
   "id": "5d295c0e",
   "metadata": {},
   "outputs": [
    {
     "data": {
      "text/plain": [
       "(100000, 15)"
      ]
     },
     "execution_count": 127,
     "metadata": {},
     "output_type": "execute_result"
    }
   ],
   "source": [
    "myDataFrame.shape"
   ]
  },
  {
   "cell_type": "code",
   "execution_count": 128,
   "id": "a9ae662e",
   "metadata": {},
   "outputs": [
    {
     "data": {
      "text/plain": [
       "pantry                 0\n",
       "deli                   0\n",
       "dry goods pasta        0\n",
       "babies                 0\n",
       "household              0\n",
       "bulk                   0\n",
       "international          0\n",
       "missing                0\n",
       "other                  0\n",
       "canned goods           0\n",
       "alcohol                0\n",
       "pets                   0\n",
       "bakery                 0\n",
       "meat seafood           0\n",
       "breakfast              0\n",
       "personal care          0\n",
       "beverages          20000\n",
       "snacks             20000\n",
       "produce            20000\n",
       "dairy eggs         20000\n",
       "frozen             20000\n",
       "Name: department, dtype: int64"
      ]
     },
     "execution_count": 128,
     "metadata": {},
     "output_type": "execute_result"
    }
   ],
   "source": [
    "myDataFrame['department'].value_counts().sort_values(ascending=True)"
   ]
  },
  {
   "cell_type": "code",
   "execution_count": 131,
   "id": "e655a644",
   "metadata": {},
   "outputs": [
    {
     "data": {
      "text/plain": [
       "Punjabi Chhole, Hot Spicy                                             0\n",
       "Crunchy Cheetos Club Pack                                             0\n",
       "Crunch Lemon Shortbread Flavor 0% Fat with Toppings Greek Yogurt      0\n",
       "Crunch Donuts                                                         0\n",
       "Crunch Chocolate Caramel Pretzel Greek Yogurt                         0\n",
       "                                                                   ... \n",
       "Organic Strawberries                                                535\n",
       "Organic Baby Spinach                                                560\n",
       "Sparkling Water Grapefruit                                          613\n",
       "Bag of Organic Bananas                                              779\n",
       "Banana                                                              986\n",
       "Name: product_name, Length: 49688, dtype: int64"
      ]
     },
     "execution_count": 131,
     "metadata": {},
     "output_type": "execute_result"
    }
   ],
   "source": [
    "myDataFrame['product_name'].value_counts().sort_values(ascending=True)"
   ]
  },
  {
   "cell_type": "code",
   "execution_count": 133,
   "id": "e26da8a8",
   "metadata": {},
   "outputs": [
    {
     "data": {
      "text/html": [
       "<div>\n",
       "<style scoped>\n",
       "    .dataframe tbody tr th:only-of-type {\n",
       "        vertical-align: middle;\n",
       "    }\n",
       "\n",
       "    .dataframe tbody tr th {\n",
       "        vertical-align: top;\n",
       "    }\n",
       "\n",
       "    .dataframe thead th {\n",
       "        text-align: right;\n",
       "    }\n",
       "</style>\n",
       "<table border=\"1\" class=\"dataframe\">\n",
       "  <thead>\n",
       "    <tr style=\"text-align: right;\">\n",
       "      <th></th>\n",
       "      <th>order_id</th>\n",
       "      <th>user_id</th>\n",
       "      <th>eval_set</th>\n",
       "      <th>order_number</th>\n",
       "      <th>order_dow</th>\n",
       "      <th>order_hour_of_day</th>\n",
       "      <th>days_since_prior_order</th>\n",
       "      <th>product_id</th>\n",
       "      <th>add_to_cart_order</th>\n",
       "      <th>reordered</th>\n",
       "      <th>product_name</th>\n",
       "      <th>aisle_id</th>\n",
       "      <th>department_id</th>\n",
       "      <th>aisle</th>\n",
       "      <th>department</th>\n",
       "    </tr>\n",
       "  </thead>\n",
       "  <tbody>\n",
       "    <tr>\n",
       "      <th>12223355</th>\n",
       "      <td>2657194</td>\n",
       "      <td>142053</td>\n",
       "      <td>prior</td>\n",
       "      <td>8</td>\n",
       "      <td>5</td>\n",
       "      <td>12</td>\n",
       "      <td>30.0</td>\n",
       "      <td>4605</td>\n",
       "      <td>10</td>\n",
       "      <td>1</td>\n",
       "      <td>Yellow Onions</td>\n",
       "      <td>83</td>\n",
       "      <td>4</td>\n",
       "      <td>fresh vegetables</td>\n",
       "      <td>produce</td>\n",
       "    </tr>\n",
       "    <tr>\n",
       "      <th>281406</th>\n",
       "      <td>2217359</td>\n",
       "      <td>118137</td>\n",
       "      <td>prior</td>\n",
       "      <td>2</td>\n",
       "      <td>1</td>\n",
       "      <td>16</td>\n",
       "      <td>0.0</td>\n",
       "      <td>13176</td>\n",
       "      <td>4</td>\n",
       "      <td>0</td>\n",
       "      <td>Bag of Organic Bananas</td>\n",
       "      <td>24</td>\n",
       "      <td>4</td>\n",
       "      <td>fresh fruits</td>\n",
       "      <td>produce</td>\n",
       "    </tr>\n",
       "    <tr>\n",
       "      <th>14873313</th>\n",
       "      <td>434260</td>\n",
       "      <td>194375</td>\n",
       "      <td>prior</td>\n",
       "      <td>31</td>\n",
       "      <td>4</td>\n",
       "      <td>8</td>\n",
       "      <td>2.0</td>\n",
       "      <td>47734</td>\n",
       "      <td>5</td>\n",
       "      <td>1</td>\n",
       "      <td>Organic Green Cabbage</td>\n",
       "      <td>83</td>\n",
       "      <td>4</td>\n",
       "      <td>fresh vegetables</td>\n",
       "      <td>produce</td>\n",
       "    </tr>\n",
       "    <tr>\n",
       "      <th>5395617</th>\n",
       "      <td>3334256</td>\n",
       "      <td>122525</td>\n",
       "      <td>prior</td>\n",
       "      <td>1</td>\n",
       "      <td>2</td>\n",
       "      <td>12</td>\n",
       "      <td>NaN</td>\n",
       "      <td>19678</td>\n",
       "      <td>27</td>\n",
       "      <td>0</td>\n",
       "      <td>Organic Russet Potato</td>\n",
       "      <td>83</td>\n",
       "      <td>4</td>\n",
       "      <td>fresh vegetables</td>\n",
       "      <td>produce</td>\n",
       "    </tr>\n",
       "    <tr>\n",
       "      <th>5848722</th>\n",
       "      <td>658328</td>\n",
       "      <td>129234</td>\n",
       "      <td>prior</td>\n",
       "      <td>3</td>\n",
       "      <td>1</td>\n",
       "      <td>6</td>\n",
       "      <td>30.0</td>\n",
       "      <td>26209</td>\n",
       "      <td>7</td>\n",
       "      <td>1</td>\n",
       "      <td>Limes</td>\n",
       "      <td>24</td>\n",
       "      <td>4</td>\n",
       "      <td>fresh fruits</td>\n",
       "      <td>produce</td>\n",
       "    </tr>\n",
       "  </tbody>\n",
       "</table>\n",
       "</div>"
      ],
      "text/plain": [
       "          order_id  user_id eval_set  order_number  order_dow  \\\n",
       "12223355   2657194   142053    prior             8          5   \n",
       "281406     2217359   118137    prior             2          1   \n",
       "14873313    434260   194375    prior            31          4   \n",
       "5395617    3334256   122525    prior             1          2   \n",
       "5848722     658328   129234    prior             3          1   \n",
       "\n",
       "          order_hour_of_day  days_since_prior_order  product_id  \\\n",
       "12223355                 12                    30.0        4605   \n",
       "281406                   16                     0.0       13176   \n",
       "14873313                  8                     2.0       47734   \n",
       "5395617                  12                     NaN       19678   \n",
       "5848722                   6                    30.0       26209   \n",
       "\n",
       "          add_to_cart_order  reordered            product_name  aisle_id  \\\n",
       "12223355                 10          1           Yellow Onions        83   \n",
       "281406                    4          0  Bag of Organic Bananas        24   \n",
       "14873313                  5          1   Organic Green Cabbage        83   \n",
       "5395617                  27          0   Organic Russet Potato        83   \n",
       "5848722                   7          1                   Limes        24   \n",
       "\n",
       "          department_id             aisle department  \n",
       "12223355              4  fresh vegetables    produce  \n",
       "281406                4      fresh fruits    produce  \n",
       "14873313              4  fresh vegetables    produce  \n",
       "5395617               4  fresh vegetables    produce  \n",
       "5848722               4      fresh fruits    produce  "
      ]
     },
     "execution_count": 133,
     "metadata": {},
     "output_type": "execute_result"
    }
   ],
   "source": [
    "myDataFrame.head()"
   ]
  },
  {
   "cell_type": "code",
   "execution_count": 98,
   "id": "e9a96f98",
   "metadata": {},
   "outputs": [
    {
     "name": "stdout",
     "output_type": "stream",
     "text": [
      "Memory usage of dataframe is 5.11 MB\n",
      "Memory usage after optimization is: 5.11 MB\n",
      "Decreased by 0.0%\n"
     ]
    }
   ],
   "source": [
    "reduce_features_df = reduce_mem_usage(myDataFrame)"
   ]
  },
  {
   "cell_type": "code",
   "execution_count": 99,
   "id": "7bbc5aee",
   "metadata": {},
   "outputs": [
    {
     "data": {
      "text/plain": [
       "order_id                     0\n",
       "user_id                      0\n",
       "eval_set                     0\n",
       "order_number                 0\n",
       "order_dow                    0\n",
       "order_hour_of_day            0\n",
       "days_since_prior_order    6437\n",
       "product_id                   0\n",
       "add_to_cart_order            0\n",
       "reordered                    0\n",
       "product_name                 0\n",
       "aisle_id                     0\n",
       "department_id                0\n",
       "aisle                        0\n",
       "department                   0\n",
       "dtype: int64"
      ]
     },
     "execution_count": 99,
     "metadata": {},
     "output_type": "execute_result"
    }
   ],
   "source": [
    "reduce_features_df.isnull().sum()"
   ]
  },
  {
   "cell_type": "code",
   "execution_count": 105,
   "id": "a5d810cb",
   "metadata": {
    "scrolled": false
   },
   "outputs": [
    {
     "data": {
      "text/html": [
       "<div>\n",
       "<style scoped>\n",
       "    .dataframe tbody tr th:only-of-type {\n",
       "        vertical-align: middle;\n",
       "    }\n",
       "\n",
       "    .dataframe tbody tr th {\n",
       "        vertical-align: top;\n",
       "    }\n",
       "\n",
       "    .dataframe thead th {\n",
       "        text-align: right;\n",
       "    }\n",
       "</style>\n",
       "<table border=\"1\" class=\"dataframe\">\n",
       "  <thead>\n",
       "    <tr style=\"text-align: right;\">\n",
       "      <th></th>\n",
       "      <th>order_dow</th>\n",
       "      <th>order_hour_of_day</th>\n",
       "      <th>days_since_prior_order</th>\n",
       "      <th>add_to_cart_order</th>\n",
       "      <th>reordered</th>\n",
       "      <th>aisle_id</th>\n",
       "      <th>department</th>\n",
       "    </tr>\n",
       "  </thead>\n",
       "  <tbody>\n",
       "    <tr>\n",
       "      <th>6532976</th>\n",
       "      <td>5</td>\n",
       "      <td>18</td>\n",
       "      <td>NaN</td>\n",
       "      <td>9</td>\n",
       "      <td>0</td>\n",
       "      <td>83</td>\n",
       "      <td>produce</td>\n",
       "    </tr>\n",
       "    <tr>\n",
       "      <th>14052175</th>\n",
       "      <td>0</td>\n",
       "      <td>12</td>\n",
       "      <td>21.0</td>\n",
       "      <td>6</td>\n",
       "      <td>0</td>\n",
       "      <td>83</td>\n",
       "      <td>produce</td>\n",
       "    </tr>\n",
       "    <tr>\n",
       "      <th>1469709</th>\n",
       "      <td>3</td>\n",
       "      <td>22</td>\n",
       "      <td>9.0</td>\n",
       "      <td>5</td>\n",
       "      <td>1</td>\n",
       "      <td>24</td>\n",
       "      <td>produce</td>\n",
       "    </tr>\n",
       "    <tr>\n",
       "      <th>4806914</th>\n",
       "      <td>0</td>\n",
       "      <td>9</td>\n",
       "      <td>12.0</td>\n",
       "      <td>4</td>\n",
       "      <td>1</td>\n",
       "      <td>83</td>\n",
       "      <td>produce</td>\n",
       "    </tr>\n",
       "    <tr>\n",
       "      <th>6032597</th>\n",
       "      <td>6</td>\n",
       "      <td>19</td>\n",
       "      <td>20.0</td>\n",
       "      <td>10</td>\n",
       "      <td>1</td>\n",
       "      <td>16</td>\n",
       "      <td>produce</td>\n",
       "    </tr>\n",
       "  </tbody>\n",
       "</table>\n",
       "</div>"
      ],
      "text/plain": [
       "          order_dow  order_hour_of_day  days_since_prior_order  \\\n",
       "6532976           5                 18                     NaN   \n",
       "14052175          0                 12                    21.0   \n",
       "1469709           3                 22                     9.0   \n",
       "4806914           0                  9                    12.0   \n",
       "6032597           6                 19                    20.0   \n",
       "\n",
       "          add_to_cart_order  reordered  aisle_id department  \n",
       "6532976                   9          0        83    produce  \n",
       "14052175                  6          0        83    produce  \n",
       "1469709                   5          1        24    produce  \n",
       "4806914                   4          1        83    produce  \n",
       "6032597                  10          1        16    produce  "
      ]
     },
     "execution_count": 105,
     "metadata": {},
     "output_type": "execute_result"
    }
   ],
   "source": [
    "reduce_features_df.head()"
   ]
  },
  {
   "cell_type": "markdown",
   "id": "0a96e2d1",
   "metadata": {},
   "source": [
    "### Using only meaningful features"
   ]
  },
  {
   "cell_type": "code",
   "execution_count": 100,
   "id": "36648213",
   "metadata": {},
   "outputs": [],
   "source": [
    "reduce_features_df.drop(columns=['order_id',\n",
    "                                 'user_id',\n",
    "                                 'eval_set',\n",
    "                                 'order_number',\n",
    "                                 'product_id',\n",
    "                                 'product_name',\n",
    "                                 'department_id',\n",
    "                                 'aisle',\n",
    "                                ],inplace= True)"
   ]
  },
  {
   "cell_type": "code",
   "execution_count": 101,
   "id": "312c4ea4",
   "metadata": {},
   "outputs": [],
   "source": [
    "reduced_feature= reduce_features_df[:]"
   ]
  },
  {
   "cell_type": "code",
   "execution_count": 102,
   "id": "9a7d139c",
   "metadata": {},
   "outputs": [
    {
     "data": {
      "text/plain": [
       "(100000, 7)"
      ]
     },
     "execution_count": 102,
     "metadata": {},
     "output_type": "execute_result"
    }
   ],
   "source": [
    "reduced_feature.shape"
   ]
  },
  {
   "cell_type": "code",
   "execution_count": 103,
   "id": "d4b79ab1",
   "metadata": {},
   "outputs": [
    {
     "data": {
      "text/html": [
       "<div>\n",
       "<style scoped>\n",
       "    .dataframe tbody tr th:only-of-type {\n",
       "        vertical-align: middle;\n",
       "    }\n",
       "\n",
       "    .dataframe tbody tr th {\n",
       "        vertical-align: top;\n",
       "    }\n",
       "\n",
       "    .dataframe thead th {\n",
       "        text-align: right;\n",
       "    }\n",
       "</style>\n",
       "<table border=\"1\" class=\"dataframe\">\n",
       "  <thead>\n",
       "    <tr style=\"text-align: right;\">\n",
       "      <th></th>\n",
       "      <th>order_dow</th>\n",
       "      <th>order_hour_of_day</th>\n",
       "      <th>days_since_prior_order</th>\n",
       "      <th>add_to_cart_order</th>\n",
       "      <th>reordered</th>\n",
       "      <th>aisle_id</th>\n",
       "      <th>department</th>\n",
       "    </tr>\n",
       "  </thead>\n",
       "  <tbody>\n",
       "    <tr>\n",
       "      <th>32115615</th>\n",
       "      <td>6</td>\n",
       "      <td>18</td>\n",
       "      <td>22.0</td>\n",
       "      <td>15</td>\n",
       "      <td>0</td>\n",
       "      <td>116</td>\n",
       "      <td>frozen</td>\n",
       "    </tr>\n",
       "    <tr>\n",
       "      <th>29824234</th>\n",
       "      <td>0</td>\n",
       "      <td>10</td>\n",
       "      <td>2.0</td>\n",
       "      <td>12</td>\n",
       "      <td>0</td>\n",
       "      <td>37</td>\n",
       "      <td>frozen</td>\n",
       "    </tr>\n",
       "    <tr>\n",
       "      <th>9762157</th>\n",
       "      <td>0</td>\n",
       "      <td>14</td>\n",
       "      <td>30.0</td>\n",
       "      <td>1</td>\n",
       "      <td>0</td>\n",
       "      <td>116</td>\n",
       "      <td>frozen</td>\n",
       "    </tr>\n",
       "    <tr>\n",
       "      <th>9762981</th>\n",
       "      <td>2</td>\n",
       "      <td>12</td>\n",
       "      <td>12.0</td>\n",
       "      <td>1</td>\n",
       "      <td>1</td>\n",
       "      <td>116</td>\n",
       "      <td>frozen</td>\n",
       "    </tr>\n",
       "    <tr>\n",
       "      <th>13283972</th>\n",
       "      <td>4</td>\n",
       "      <td>18</td>\n",
       "      <td>8.0</td>\n",
       "      <td>5</td>\n",
       "      <td>1</td>\n",
       "      <td>34</td>\n",
       "      <td>frozen</td>\n",
       "    </tr>\n",
       "    <tr>\n",
       "      <th>9914718</th>\n",
       "      <td>1</td>\n",
       "      <td>13</td>\n",
       "      <td>5.0</td>\n",
       "      <td>3</td>\n",
       "      <td>1</td>\n",
       "      <td>79</td>\n",
       "      <td>frozen</td>\n",
       "    </tr>\n",
       "    <tr>\n",
       "      <th>13090371</th>\n",
       "      <td>6</td>\n",
       "      <td>22</td>\n",
       "      <td>6.0</td>\n",
       "      <td>22</td>\n",
       "      <td>0</td>\n",
       "      <td>116</td>\n",
       "      <td>frozen</td>\n",
       "    </tr>\n",
       "    <tr>\n",
       "      <th>18614908</th>\n",
       "      <td>6</td>\n",
       "      <td>13</td>\n",
       "      <td>5.0</td>\n",
       "      <td>14</td>\n",
       "      <td>1</td>\n",
       "      <td>116</td>\n",
       "      <td>frozen</td>\n",
       "    </tr>\n",
       "    <tr>\n",
       "      <th>13099477</th>\n",
       "      <td>6</td>\n",
       "      <td>14</td>\n",
       "      <td>10.0</td>\n",
       "      <td>3</td>\n",
       "      <td>1</td>\n",
       "      <td>42</td>\n",
       "      <td>frozen</td>\n",
       "    </tr>\n",
       "    <tr>\n",
       "      <th>25283005</th>\n",
       "      <td>5</td>\n",
       "      <td>16</td>\n",
       "      <td>13.0</td>\n",
       "      <td>9</td>\n",
       "      <td>1</td>\n",
       "      <td>79</td>\n",
       "      <td>frozen</td>\n",
       "    </tr>\n",
       "  </tbody>\n",
       "</table>\n",
       "</div>"
      ],
      "text/plain": [
       "          order_dow  order_hour_of_day  days_since_prior_order  \\\n",
       "32115615          6                 18                    22.0   \n",
       "29824234          0                 10                     2.0   \n",
       "9762157           0                 14                    30.0   \n",
       "9762981           2                 12                    12.0   \n",
       "13283972          4                 18                     8.0   \n",
       "9914718           1                 13                     5.0   \n",
       "13090371          6                 22                     6.0   \n",
       "18614908          6                 13                     5.0   \n",
       "13099477          6                 14                    10.0   \n",
       "25283005          5                 16                    13.0   \n",
       "\n",
       "          add_to_cart_order  reordered  aisle_id department  \n",
       "32115615                 15          0       116     frozen  \n",
       "29824234                 12          0        37     frozen  \n",
       "9762157                   1          0       116     frozen  \n",
       "9762981                   1          1       116     frozen  \n",
       "13283972                  5          1        34     frozen  \n",
       "9914718                   3          1        79     frozen  \n",
       "13090371                 22          0       116     frozen  \n",
       "18614908                 14          1       116     frozen  \n",
       "13099477                  3          1        42     frozen  \n",
       "25283005                  9          1        79     frozen  "
      ]
     },
     "execution_count": 103,
     "metadata": {},
     "output_type": "execute_result"
    }
   ],
   "source": [
    "reduced_feature.tail(10)"
   ]
  },
  {
   "cell_type": "code",
   "execution_count": 104,
   "id": "31d3e0a9",
   "metadata": {},
   "outputs": [],
   "source": [
    "#export dataframe to csv \n",
    "reduced_feature.to_csv(r'/Users/jass/Documents/masterhsmainz/4th semester summer 2022/Bus Ana/final project/dataset/instacart_100k_noonehot.csv', index=False) "
   ]
  },
  {
   "cell_type": "markdown",
   "id": "899f28ff",
   "metadata": {},
   "source": []
  },
  {
   "cell_type": "code",
   "execution_count": null,
   "id": "b785b90f",
   "metadata": {},
   "outputs": [],
   "source": []
  },
  {
   "cell_type": "code",
   "execution_count": null,
   "id": "96f812de",
   "metadata": {},
   "outputs": [],
   "source": []
  },
  {
   "cell_type": "code",
   "execution_count": null,
   "id": "2db007df",
   "metadata": {},
   "outputs": [],
   "source": []
  },
  {
   "cell_type": "code",
   "execution_count": null,
   "id": "e1e8a0af",
   "metadata": {},
   "outputs": [],
   "source": []
  },
  {
   "cell_type": "code",
   "execution_count": null,
   "id": "683425ed",
   "metadata": {},
   "outputs": [],
   "source": []
  },
  {
   "cell_type": "code",
   "execution_count": null,
   "id": "2dbbf4ec",
   "metadata": {},
   "outputs": [],
   "source": []
  },
  {
   "cell_type": "code",
   "execution_count": null,
   "id": "b278e09f",
   "metadata": {},
   "outputs": [],
   "source": []
  },
  {
   "cell_type": "code",
   "execution_count": null,
   "id": "7b36888f",
   "metadata": {},
   "outputs": [],
   "source": []
  },
  {
   "cell_type": "code",
   "execution_count": null,
   "id": "7ee8b176",
   "metadata": {},
   "outputs": [],
   "source": []
  },
  {
   "cell_type": "code",
   "execution_count": null,
   "id": "93faff10",
   "metadata": {},
   "outputs": [],
   "source": []
  }
 ],
 "metadata": {
  "kernelspec": {
   "display_name": "Python 3 (ipykernel)",
   "language": "python",
   "name": "python3"
  },
  "language_info": {
   "codemirror_mode": {
    "name": "ipython",
    "version": 3
   },
   "file_extension": ".py",
   "mimetype": "text/x-python",
   "name": "python",
   "nbconvert_exporter": "python",
   "pygments_lexer": "ipython3",
   "version": "3.9.7"
  }
 },
 "nbformat": 4,
 "nbformat_minor": 5
}
